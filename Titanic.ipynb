{
  "nbformat": 4,
  "nbformat_minor": 0,
  "metadata": {
    "colab": {
      "name": "Titanic.ipynb",
      "provenance": [],
      "toc_visible": true,
      "authorship_tag": "ABX9TyOkscPAhRIyCs75TTRNKi6/",
      "include_colab_link": true
    },
    "kernelspec": {
      "name": "python3",
      "display_name": "Python 3"
    }
  },
  "cells": [
    {
      "cell_type": "markdown",
      "metadata": {
        "id": "view-in-github",
        "colab_type": "text"
      },
      "source": [
        "<a href=\"https://colab.research.google.com/github/JudeDihan/Titanic-Machine-Learning-from-Disaster/blob/master/Titanic.ipynb\" target=\"_parent\"><img src=\"https://colab.research.google.com/assets/colab-badge.svg\" alt=\"Open In Colab\"/></a>"
      ]
    },
    {
      "cell_type": "markdown",
      "metadata": {
        "id": "LOZ8bacMPBKc",
        "colab_type": "text"
      },
      "source": [
        "#  1. Introduction"
      ]
    },
    {
      "cell_type": "markdown",
      "metadata": {
        "id": "lX5lnOnpl-6D",
        "colab_type": "text"
      },
      "source": [
        "### 1.1 Project Description"
      ]
    },
    {
      "cell_type": "markdown",
      "metadata": {
        "id": "4JnrBiDJTiDf",
        "colab_type": "text"
      },
      "source": [
        "Kaggle.com has opened a comtetion to predict the survival (survived or not) of a set of Titanic passengers. The competition can be found here: https://www.kaggle.com/c/titanic/overview\n",
        "\n",
        "This project deals with the basic data exploration and training of models to find the optitmum Machine Learning model to predict which passengers survived of the test data set given by Kaggle. "
      ]
    },
    {
      "cell_type": "markdown",
      "metadata": {
        "id": "F2Vy1zSymKfG",
        "colab_type": "text"
      },
      "source": [
        "### 1.2 Initial Exploration of the Datasets"
      ]
    },
    {
      "cell_type": "markdown",
      "metadata": {
        "id": "k5yugaQilrLZ",
        "colab_type": "text"
      },
      "source": [
        "**Importing the libraries**"
      ]
    },
    {
      "cell_type": "code",
      "metadata": {
        "id": "DWReXjqUOk5g",
        "colab_type": "code",
        "colab": {}
      },
      "source": [
        "import numpy as np\n",
        "import pandas as pd\n",
        "import matplotlib.pyplot as plt"
      ],
      "execution_count": 1,
      "outputs": []
    },
    {
      "cell_type": "markdown",
      "metadata": {
        "id": "SLWfqUEzlxM7",
        "colab_type": "text"
      },
      "source": [
        "**Importing the training set and test set.**"
      ]
    },
    {
      "cell_type": "code",
      "metadata": {
        "id": "bSoR4UgsPAXN",
        "colab_type": "code",
        "colab": {
          "base_uri": "https://localhost:8080/",
          "height": 53
        },
        "outputId": "4e95be30-f3dc-47ec-e65f-c79b5dfba461"
      },
      "source": [
        "train_set = pd.read_csv(\"train.csv\")\n",
        "test_set = pd.read_csv(\"test.csv\")\n",
        "print(\"Training Set Shape =\", train_set.shape)\n",
        "print(\"Testing Set Shape =\", test_set.shape)"
      ],
      "execution_count": 2,
      "outputs": [
        {
          "output_type": "stream",
          "text": [
            "Training Set Shape = (891, 12)\n",
            "Testing Set Shape = (418, 11)\n"
          ],
          "name": "stdout"
        }
      ]
    },
    {
      "cell_type": "markdown",
      "metadata": {
        "id": "5Nz1Jo1MmYNr",
        "colab_type": "text"
      },
      "source": [
        "The testing set has one less column than the training set. This is because the testing set lacks the \"Survived\" column, as expected."
      ]
    },
    {
      "cell_type": "code",
      "metadata": {
        "id": "LQ6QcEFiPYQR",
        "colab_type": "code",
        "colab": {
          "base_uri": "https://localhost:8080/",
          "height": 204
        },
        "outputId": "8eb41b4a-b0ae-4de9-d173-3565edbad474"
      },
      "source": [
        "train_set.head()"
      ],
      "execution_count": 3,
      "outputs": [
        {
          "output_type": "execute_result",
          "data": {
            "text/html": [
              "<div>\n",
              "<style scoped>\n",
              "    .dataframe tbody tr th:only-of-type {\n",
              "        vertical-align: middle;\n",
              "    }\n",
              "\n",
              "    .dataframe tbody tr th {\n",
              "        vertical-align: top;\n",
              "    }\n",
              "\n",
              "    .dataframe thead th {\n",
              "        text-align: right;\n",
              "    }\n",
              "</style>\n",
              "<table border=\"1\" class=\"dataframe\">\n",
              "  <thead>\n",
              "    <tr style=\"text-align: right;\">\n",
              "      <th></th>\n",
              "      <th>PassengerId</th>\n",
              "      <th>Survived</th>\n",
              "      <th>Pclass</th>\n",
              "      <th>Name</th>\n",
              "      <th>Sex</th>\n",
              "      <th>Age</th>\n",
              "      <th>SibSp</th>\n",
              "      <th>Parch</th>\n",
              "      <th>Ticket</th>\n",
              "      <th>Fare</th>\n",
              "      <th>Cabin</th>\n",
              "      <th>Embarked</th>\n",
              "    </tr>\n",
              "  </thead>\n",
              "  <tbody>\n",
              "    <tr>\n",
              "      <th>0</th>\n",
              "      <td>1</td>\n",
              "      <td>0</td>\n",
              "      <td>3</td>\n",
              "      <td>Braund, Mr. Owen Harris</td>\n",
              "      <td>male</td>\n",
              "      <td>22.0</td>\n",
              "      <td>1</td>\n",
              "      <td>0</td>\n",
              "      <td>A/5 21171</td>\n",
              "      <td>7.2500</td>\n",
              "      <td>NaN</td>\n",
              "      <td>S</td>\n",
              "    </tr>\n",
              "    <tr>\n",
              "      <th>1</th>\n",
              "      <td>2</td>\n",
              "      <td>1</td>\n",
              "      <td>1</td>\n",
              "      <td>Cumings, Mrs. John Bradley (Florence Briggs Th...</td>\n",
              "      <td>female</td>\n",
              "      <td>38.0</td>\n",
              "      <td>1</td>\n",
              "      <td>0</td>\n",
              "      <td>PC 17599</td>\n",
              "      <td>71.2833</td>\n",
              "      <td>C85</td>\n",
              "      <td>C</td>\n",
              "    </tr>\n",
              "    <tr>\n",
              "      <th>2</th>\n",
              "      <td>3</td>\n",
              "      <td>1</td>\n",
              "      <td>3</td>\n",
              "      <td>Heikkinen, Miss. Laina</td>\n",
              "      <td>female</td>\n",
              "      <td>26.0</td>\n",
              "      <td>0</td>\n",
              "      <td>0</td>\n",
              "      <td>STON/O2. 3101282</td>\n",
              "      <td>7.9250</td>\n",
              "      <td>NaN</td>\n",
              "      <td>S</td>\n",
              "    </tr>\n",
              "    <tr>\n",
              "      <th>3</th>\n",
              "      <td>4</td>\n",
              "      <td>1</td>\n",
              "      <td>1</td>\n",
              "      <td>Futrelle, Mrs. Jacques Heath (Lily May Peel)</td>\n",
              "      <td>female</td>\n",
              "      <td>35.0</td>\n",
              "      <td>1</td>\n",
              "      <td>0</td>\n",
              "      <td>113803</td>\n",
              "      <td>53.1000</td>\n",
              "      <td>C123</td>\n",
              "      <td>S</td>\n",
              "    </tr>\n",
              "    <tr>\n",
              "      <th>4</th>\n",
              "      <td>5</td>\n",
              "      <td>0</td>\n",
              "      <td>3</td>\n",
              "      <td>Allen, Mr. William Henry</td>\n",
              "      <td>male</td>\n",
              "      <td>35.0</td>\n",
              "      <td>0</td>\n",
              "      <td>0</td>\n",
              "      <td>373450</td>\n",
              "      <td>8.0500</td>\n",
              "      <td>NaN</td>\n",
              "      <td>S</td>\n",
              "    </tr>\n",
              "  </tbody>\n",
              "</table>\n",
              "</div>"
            ],
            "text/plain": [
              "   PassengerId  Survived  Pclass  ...     Fare Cabin  Embarked\n",
              "0            1         0       3  ...   7.2500   NaN         S\n",
              "1            2         1       1  ...  71.2833   C85         C\n",
              "2            3         1       3  ...   7.9250   NaN         S\n",
              "3            4         1       1  ...  53.1000  C123         S\n",
              "4            5         0       3  ...   8.0500   NaN         S\n",
              "\n",
              "[5 rows x 12 columns]"
            ]
          },
          "metadata": {
            "tags": []
          },
          "execution_count": 3
        }
      ]
    },
    {
      "cell_type": "markdown",
      "metadata": {
        "id": "DkQYEaLAm3Jp",
        "colab_type": "text"
      },
      "source": [
        "**Checking for target column class imbalance**"
      ]
    },
    {
      "cell_type": "markdown",
      "metadata": {
        "id": "H9CJ7OQAmpCl",
        "colab_type": "text"
      },
      "source": [
        "First let's find out if any class imbalances are there for our target column (\"Survived\" Column). This will play a crucial role when we import our Scikit Machine Learning models."
      ]
    },
    {
      "cell_type": "code",
      "metadata": {
        "id": "KVRqjZesmzmt",
        "colab_type": "code",
        "colab": {
          "base_uri": "https://localhost:8080/",
          "height": 89
        },
        "outputId": "f93f8cb2-3fa4-40e8-fe1a-665d76538556"
      },
      "source": [
        "# Make sure no null values are present in the target column.\n",
        "print(\"No. of Null Values =\",train_set[\"Survived\"].isnull().sum())\n",
        "\n",
        "print(train_set[\"Survived\"].value_counts(normalize=True))"
      ],
      "execution_count": 4,
      "outputs": [
        {
          "output_type": "stream",
          "text": [
            "No. of Null Values = 0\n",
            "0    0.616162\n",
            "1    0.383838\n",
            "Name: Survived, dtype: float64\n"
          ],
          "name": "stdout"
        }
      ]
    },
    {
      "cell_type": "markdown",
      "metadata": {
        "id": "kyCs-DbMoqwa",
        "colab_type": "text"
      },
      "source": [
        "**NOTE**: We have roughly 1.6 times more data on passengers that did not survived than the passengers that did survived. Let's keep this in mind as we go forward."
      ]
    },
    {
      "cell_type": "markdown",
      "metadata": {
        "id": "bQCCiRFBpH4P",
        "colab_type": "text"
      },
      "source": [
        "**Checking Null / Missing Values**"
      ]
    },
    {
      "cell_type": "code",
      "metadata": {
        "id": "BRcNT5XBnVge",
        "colab_type": "code",
        "colab": {
          "base_uri": "https://localhost:8080/",
          "height": 251
        },
        "outputId": "ca06f759-09b3-4f74-d5f2-c9b627293d6e"
      },
      "source": [
        "# Outputs the percentage of missing values in the training set.\n",
        "print(train_set.isnull().sum() / len(train_set) * 100)"
      ],
      "execution_count": 5,
      "outputs": [
        {
          "output_type": "stream",
          "text": [
            "PassengerId     0.000000\n",
            "Survived        0.000000\n",
            "Pclass          0.000000\n",
            "Name            0.000000\n",
            "Sex             0.000000\n",
            "Age            19.865320\n",
            "SibSp           0.000000\n",
            "Parch           0.000000\n",
            "Ticket          0.000000\n",
            "Fare            0.000000\n",
            "Cabin          77.104377\n",
            "Embarked        0.224467\n",
            "dtype: float64\n"
          ],
          "name": "stdout"
        }
      ]
    },
    {
      "cell_type": "code",
      "metadata": {
        "id": "mXFI3pVRpTSH",
        "colab_type": "code",
        "colab": {
          "base_uri": "https://localhost:8080/",
          "height": 233
        },
        "outputId": "04dc555a-4cf7-4947-b2c5-b7b00e23b5f8"
      },
      "source": [
        "# Outputs the percentage of missing values in the test set.\n",
        "print(test_set.isnull().sum() / len(test_set) * 100)"
      ],
      "execution_count": 6,
      "outputs": [
        {
          "output_type": "stream",
          "text": [
            "PassengerId     0.000000\n",
            "Pclass          0.000000\n",
            "Name            0.000000\n",
            "Sex             0.000000\n",
            "Age            20.574163\n",
            "SibSp           0.000000\n",
            "Parch           0.000000\n",
            "Ticket          0.000000\n",
            "Fare            0.239234\n",
            "Cabin          78.229665\n",
            "Embarked        0.000000\n",
            "dtype: float64\n"
          ],
          "name": "stdout"
        }
      ]
    },
    {
      "cell_type": "markdown",
      "metadata": {
        "id": "L86L16Z-qGb6",
        "colab_type": "text"
      },
      "source": [
        "Both the training set and the testing set seem to have equal percentages of missing values for the \"Age\" column and \"Cabin\" column. \n",
        "\n",
        "78% of missing data on the \"Cabin\" column is too high. It is better to drop this column from our dataset.\n",
        "\n",
        "While 20% of data on the \"Age\" column is relatively a large amount, it is a very important column. Let's try to come up with a solution to keep this column. \n",
        "\n",
        "The \"Embraked\" column of the training set has two missing values (0.22%). Let's see if we can try to keep those rows as we continue our analysis."
      ]
    },
    {
      "cell_type": "markdown",
      "metadata": {
        "id": "h5MYsmHyrvYC",
        "colab_type": "text"
      },
      "source": [
        "**Dropping Columns that have no meaning in analysis**"
      ]
    },
    {
      "cell_type": "markdown",
      "metadata": {
        "id": "ff3bBvbEr0ae",
        "colab_type": "text"
      },
      "source": [
        "Let's get rid of the following columns.\n",
        "\n",
        "PassengerId : This has no effect on survival\n",
        "\n",
        "Ticket: This has no effect on survival\n",
        "\n",
        "Cabin: This column has 78% missing data."
      ]
    },
    {
      "cell_type": "code",
      "metadata": {
        "id": "mwM8Y-MQp_uG",
        "colab_type": "code",
        "colab": {
          "base_uri": "https://localhost:8080/",
          "height": 53
        },
        "outputId": "4121370c-ec6f-4de2-d2c7-3a57a7fcbd0e"
      },
      "source": [
        "drop_cols = [\"Ticket\", \"Cabin\"]\n",
        "train_set = train_set.drop(drop_cols, axis=1)\n",
        "print(\"Training Set Shape =\", train_set.shape)\n",
        "\n",
        "test_set = test_set.drop(drop_cols, axis=1)\n",
        "print(\"Testing Set Shape =\", test_set.shape)"
      ],
      "execution_count": 7,
      "outputs": [
        {
          "output_type": "stream",
          "text": [
            "Training Set Shape = (891, 10)\n",
            "Testing Set Shape = (418, 9)\n"
          ],
          "name": "stdout"
        }
      ]
    },
    {
      "cell_type": "code",
      "metadata": {
        "id": "UPwA085UsnlY",
        "colab_type": "code",
        "colab": {
          "base_uri": "https://localhost:8080/",
          "height": 142
        },
        "outputId": "34d18a29-dee7-493b-8506-e737f5915f51"
      },
      "source": [
        "train_set.head(3)"
      ],
      "execution_count": 8,
      "outputs": [
        {
          "output_type": "execute_result",
          "data": {
            "text/html": [
              "<div>\n",
              "<style scoped>\n",
              "    .dataframe tbody tr th:only-of-type {\n",
              "        vertical-align: middle;\n",
              "    }\n",
              "\n",
              "    .dataframe tbody tr th {\n",
              "        vertical-align: top;\n",
              "    }\n",
              "\n",
              "    .dataframe thead th {\n",
              "        text-align: right;\n",
              "    }\n",
              "</style>\n",
              "<table border=\"1\" class=\"dataframe\">\n",
              "  <thead>\n",
              "    <tr style=\"text-align: right;\">\n",
              "      <th></th>\n",
              "      <th>PassengerId</th>\n",
              "      <th>Survived</th>\n",
              "      <th>Pclass</th>\n",
              "      <th>Name</th>\n",
              "      <th>Sex</th>\n",
              "      <th>Age</th>\n",
              "      <th>SibSp</th>\n",
              "      <th>Parch</th>\n",
              "      <th>Fare</th>\n",
              "      <th>Embarked</th>\n",
              "    </tr>\n",
              "  </thead>\n",
              "  <tbody>\n",
              "    <tr>\n",
              "      <th>0</th>\n",
              "      <td>1</td>\n",
              "      <td>0</td>\n",
              "      <td>3</td>\n",
              "      <td>Braund, Mr. Owen Harris</td>\n",
              "      <td>male</td>\n",
              "      <td>22.0</td>\n",
              "      <td>1</td>\n",
              "      <td>0</td>\n",
              "      <td>7.2500</td>\n",
              "      <td>S</td>\n",
              "    </tr>\n",
              "    <tr>\n",
              "      <th>1</th>\n",
              "      <td>2</td>\n",
              "      <td>1</td>\n",
              "      <td>1</td>\n",
              "      <td>Cumings, Mrs. John Bradley (Florence Briggs Th...</td>\n",
              "      <td>female</td>\n",
              "      <td>38.0</td>\n",
              "      <td>1</td>\n",
              "      <td>0</td>\n",
              "      <td>71.2833</td>\n",
              "      <td>C</td>\n",
              "    </tr>\n",
              "    <tr>\n",
              "      <th>2</th>\n",
              "      <td>3</td>\n",
              "      <td>1</td>\n",
              "      <td>3</td>\n",
              "      <td>Heikkinen, Miss. Laina</td>\n",
              "      <td>female</td>\n",
              "      <td>26.0</td>\n",
              "      <td>0</td>\n",
              "      <td>0</td>\n",
              "      <td>7.9250</td>\n",
              "      <td>S</td>\n",
              "    </tr>\n",
              "  </tbody>\n",
              "</table>\n",
              "</div>"
            ],
            "text/plain": [
              "   PassengerId  Survived  Pclass  ... Parch     Fare  Embarked\n",
              "0            1         0       3  ...     0   7.2500         S\n",
              "1            2         1       1  ...     0  71.2833         C\n",
              "2            3         1       3  ...     0   7.9250         S\n",
              "\n",
              "[3 rows x 10 columns]"
            ]
          },
          "metadata": {
            "tags": []
          },
          "execution_count": 8
        }
      ]
    },
    {
      "cell_type": "markdown",
      "metadata": {
        "id": "mjZXJL39szlA",
        "colab_type": "text"
      },
      "source": [
        "Now let's move on to a deeper exploration of our dataset."
      ]
    },
    {
      "cell_type": "markdown",
      "metadata": {
        "id": "wA1G6cYss8xd",
        "colab_type": "text"
      },
      "source": [
        "# 2. In-depth Analysis"
      ]
    },
    {
      "cell_type": "markdown",
      "metadata": {
        "id": "HYCRZAFz_rPp",
        "colab_type": "text"
      },
      "source": [
        "### 2.1 Pclass "
      ]
    },
    {
      "cell_type": "code",
      "metadata": {
        "id": "z7H7PQoLsw99",
        "colab_type": "code",
        "colab": {
          "base_uri": "https://localhost:8080/",
          "height": 364
        },
        "outputId": "fed5f92a-1d73-4d46-babf-9f507e9ed00a"
      },
      "source": [
        "train_set[\"Pclass\"].value_counts().sort_index().plot.bar()\n",
        "plt.xlabel(\"Passenger Class\")\n",
        "plt.ylabel(\"Number of Passengers\")\n",
        "plt.title(\"Number of Passengers per Class\")\n",
        "plt.show()\n",
        "print(train_set[\"Pclass\"].value_counts(normalize=True).sort_index())"
      ],
      "execution_count": 9,
      "outputs": [
        {
          "output_type": "display_data",
          "data": {
            "image/png": "[encoded data removed]",
            "text/plain": [
              "<Figure size 432x288 with 1 Axes>"
            ]
          },
          "metadata": {
            "tags": [],
            "needs_background": "light"
          }
        },
        {
          "output_type": "stream",
          "text": [
            "1    0.242424\n",
            "2    0.206510\n",
            "3    0.551066\n",
            "Name: Pclass, dtype: float64\n"
          ],
          "name": "stdout"
        }
      ]
    },
    {
      "cell_type": "markdown",
      "metadata": {
        "id": "KP3ZEyFfA9H_",
        "colab_type": "text"
      },
      "source": [
        "55% of the passengers in our dataset travelled in the Lower Class while the rest is almost equally split between the Upper and Middle Class.\n",
        "\n",
        "Now, let's look at the survival rates of the passengers of these classes."
      ]
    },
    {
      "cell_type": "code",
      "metadata": {
        "id": "QeNstQHc_aIw",
        "colab_type": "code",
        "colab": {
          "base_uri": "https://localhost:8080/",
          "height": 367
        },
        "outputId": "d60df60f-1035-47a0-fd61-81f5b21e0c43"
      },
      "source": [
        "df = train_set[[\"Pclass\",\"Survived\"]].groupby(\"Pclass\", as_index=False).mean()\n",
        "plt.bar(df[\"Pclass\"], df[\"Survived\"]*100)\n",
        "plt.xticks(df[\"Pclass\"])\n",
        "plt.xlabel(\"Passenger Class\")\n",
        "plt.ylabel(\"Survival Rate\")\n",
        "plt.title(\"Survival Rate per Passenger Class\")\n",
        "plt.show()\n",
        "\n",
        "print(df[[\"Pclass\",\"Survived\"]])"
      ],
      "execution_count": 10,
      "outputs": [
        {
          "output_type": "display_data",
          "data": {
            "image/png": "[encoded data removed]",
            "text/plain": [
              "<Figure size 432x288 with 1 Axes>"
            ]
          },
          "metadata": {
            "tags": [],
            "needs_background": "light"
          }
        },
        {
          "output_type": "stream",
          "text": [
            "   Pclass  Survived\n",
            "0       1  0.629630\n",
            "1       2  0.472826\n",
            "2       3  0.242363\n"
          ],
          "name": "stdout"
        }
      ]
    },
    {
      "cell_type": "markdown",
      "metadata": {
        "id": "fxpE8a5vD5u7",
        "colab_type": "text"
      },
      "source": [
        "Interestingly, but unexpectedly, the lowest passenger class has the lowest survival rate."
      ]
    },
    {
      "cell_type": "markdown",
      "metadata": {
        "id": "oPXg7ObxEWzs",
        "colab_type": "text"
      },
      "source": [
        "## 2.2 Gender"
      ]
    },
    {
      "cell_type": "markdown",
      "metadata": {
        "id": "Sr_tI_uSEeje",
        "colab_type": "text"
      },
      "source": [
        "First let's code our \"sex\" column, so it will be easier to analyze and train our model."
      ]
    },
    {
      "cell_type": "code",
      "metadata": {
        "id": "wQSnW4XmEUQz",
        "colab_type": "code",
        "colab": {
          "base_uri": "https://localhost:8080/",
          "height": 71
        },
        "outputId": "f119221c-a9c2-458d-f255-3d8b0f04f729"
      },
      "source": [
        "coder = {\"Sex\": {\"female\":0, \"male\":1}}\n",
        "train_set = train_set.replace(coder)\n",
        "test_set = test_set.replace(coder)\n",
        "\n",
        "train_set[\"Sex\"].value_counts()"
      ],
      "execution_count": 11,
      "outputs": [
        {
          "output_type": "execute_result",
          "data": {
            "text/plain": [
              "1    577\n",
              "0    314\n",
              "Name: Sex, dtype: int64"
            ]
          },
          "metadata": {
            "tags": []
          },
          "execution_count": 11
        }
      ]
    },
    {
      "cell_type": "code",
      "metadata": {
        "id": "3fB-kRVjG_98",
        "colab_type": "code",
        "colab": {
          "base_uri": "https://localhost:8080/",
          "height": 367
        },
        "outputId": "f8b2b397-b499-4bd7-8c65-59884a96fb79"
      },
      "source": [
        "df = train_set[[\"Pclass\",\"Sex\"]].groupby(\"Pclass\", as_index=False).mean()\n",
        "plt.bar(df[\"Pclass\"], df[\"Sex\"]*100)\n",
        "plt.xticks(df[\"Pclass\"])\n",
        "plt.xlabel(\"Passenger Class\")\n",
        "plt.ylabel(\"Percentage of Men\")\n",
        "plt.title(\"Percentage of Men in each class\")\n",
        "plt.show()\n",
        "\n",
        "print(df[[\"Pclass\",\"Sex\"]])"
      ],
      "execution_count": 12,
      "outputs": [
        {
          "output_type": "display_data",
          "data": {
            "image/png": "[encoded data removed]",
            "text/plain": [
              "<Figure size 432x288 with 1 Axes>"
            ]
          },
          "metadata": {
            "tags": [],
            "needs_background": "light"
          }
        },
        {
          "output_type": "stream",
          "text": [
            "   Pclass       Sex\n",
            "0       1  0.564815\n",
            "1       2  0.586957\n",
            "2       3  0.706721\n"
          ],
          "name": "stdout"
        }
      ]
    },
    {
      "cell_type": "markdown",
      "metadata": {
        "id": "MSYhIr76Iy5f",
        "colab_type": "text"
      },
      "source": [
        "The percentage of women in the lowest class was around 30%, While the first and second classes shows a percentage of women of around 42% each."
      ]
    },
    {
      "cell_type": "markdown",
      "metadata": {
        "id": "-HrVJiUjJeK2",
        "colab_type": "text"
      },
      "source": [
        "**Survival Rate of Each Gender**"
      ]
    },
    {
      "cell_type": "code",
      "metadata": {
        "id": "vZRcHOzQIJCV",
        "colab_type": "code",
        "colab": {
          "base_uri": "https://localhost:8080/",
          "height": 111
        },
        "outputId": "bacd5d6e-74d7-4f3b-a7fd-a1890c5fb370"
      },
      "source": [
        "train_set[[\"Sex\", \"Survived\"]].groupby(\"Sex\", as_index=False).mean()"
      ],
      "execution_count": 13,
      "outputs": [
        {
          "output_type": "execute_result",
          "data": {
            "text/html": [
              "<div>\n",
              "<style scoped>\n",
              "    .dataframe tbody tr th:only-of-type {\n",
              "        vertical-align: middle;\n",
              "    }\n",
              "\n",
              "    .dataframe tbody tr th {\n",
              "        vertical-align: top;\n",
              "    }\n",
              "\n",
              "    .dataframe thead th {\n",
              "        text-align: right;\n",
              "    }\n",
              "</style>\n",
              "<table border=\"1\" class=\"dataframe\">\n",
              "  <thead>\n",
              "    <tr style=\"text-align: right;\">\n",
              "      <th></th>\n",
              "      <th>Sex</th>\n",
              "      <th>Survived</th>\n",
              "    </tr>\n",
              "  </thead>\n",
              "  <tbody>\n",
              "    <tr>\n",
              "      <th>0</th>\n",
              "      <td>0</td>\n",
              "      <td>0.742038</td>\n",
              "    </tr>\n",
              "    <tr>\n",
              "      <th>1</th>\n",
              "      <td>1</td>\n",
              "      <td>0.188908</td>\n",
              "    </tr>\n",
              "  </tbody>\n",
              "</table>\n",
              "</div>"
            ],
            "text/plain": [
              "   Sex  Survived\n",
              "0    0  0.742038\n",
              "1    1  0.188908"
            ]
          },
          "metadata": {
            "tags": []
          },
          "execution_count": 13
        }
      ]
    },
    {
      "cell_type": "markdown",
      "metadata": {
        "id": "wJtx8IgxKhcn",
        "colab_type": "text"
      },
      "source": [
        "74% of women have survived the Titanic sinking. While only 19% of men were able to survive the sinking. This corresponds with the reports mentioning that the Captain ordered the women and children to have first preference on the escape lifeboats "
      ]
    },
    {
      "cell_type": "markdown",
      "metadata": {
        "id": "SRTr4soGLPnY",
        "colab_type": "text"
      },
      "source": [
        "## 2.3 Age"
      ]
    },
    {
      "cell_type": "markdown",
      "metadata": {
        "id": "brQpR6iTLYSb",
        "colab_type": "text"
      },
      "source": [
        "Lets see the distribution of age among the entire dataset."
      ]
    },
    {
      "cell_type": "code",
      "metadata": {
        "id": "NQCuQ8JXJrms",
        "colab_type": "code",
        "colab": {
          "base_uri": "https://localhost:8080/",
          "height": 529
        },
        "outputId": "8f94d7fa-f4b0-4237-fcd7-5f234171d22c"
      },
      "source": [
        "plt.hist(train_set[\"Age\"], bins=16, color='y')\n",
        "plt.xlabel(\"Age\")\n",
        "plt.ylabel(\"Frequency\")\n",
        "plt.title(\"Age Distribution of Dataset\")\n",
        "plt.show()\n",
        "\n",
        "train_set[\"Age\"].describe()"
      ],
      "execution_count": 14,
      "outputs": [
        {
          "output_type": "stream",
          "text": [
            "/usr/local/lib/python3.6/dist-packages/numpy/lib/histograms.py:839: RuntimeWarning: invalid value encountered in greater_equal\n",
            "  keep = (tmp_a >= first_edge)\n",
            "/usr/local/lib/python3.6/dist-packages/numpy/lib/histograms.py:840: RuntimeWarning: invalid value encountered in less_equal\n",
            "  keep &= (tmp_a <= last_edge)\n"
          ],
          "name": "stderr"
        },
        {
          "output_type": "display_data",
          "data": {
            "image/png": "[encoded data removed]",
            "text/plain": [
              "<Figure size 432x288 with 1 Axes>"
            ]
          },
          "metadata": {
            "tags": [],
            "needs_background": "light"
          }
        },
        {
          "output_type": "execute_result",
          "data": {
            "text/plain": [
              "count    714.000000\n",
              "mean      29.699118\n",
              "std       14.526497\n",
              "min        0.420000\n",
              "25%       20.125000\n",
              "50%       28.000000\n",
              "75%       38.000000\n",
              "max       80.000000\n",
              "Name: Age, dtype: float64"
            ]
          },
          "metadata": {
            "tags": []
          },
          "execution_count": 14
        }
      ]
    },
    {
      "cell_type": "code",
      "metadata": {
        "id": "WcsWm1DHL410",
        "colab_type": "code",
        "colab": {
          "base_uri": "https://localhost:8080/",
          "height": 367
        },
        "outputId": "62a01b93-0dcb-42d9-8f16-feed567dc2b3"
      },
      "source": [
        "survived = train_set[train_set[\"Survived\"]==1]\n",
        "not_survived = train_set[train_set[\"Survived\"]==0]\n",
        "\n",
        "plt.hist(survived[\"Age\"], bins=16, color='g', label=\"Survived\")\n",
        "plt.hist(not_survived[\"Age\"], bins=16, color='r', alpha=0.75, label=\"Did Not Survive\")\n",
        "plt.xlabel(\"Age\")\n",
        "plt.ylabel(\"Frequency\")\n",
        "plt.title(\"Age Distribution of Dataset\")\n",
        "plt.legend()\n",
        "plt.show()"
      ],
      "execution_count": 15,
      "outputs": [
        {
          "output_type": "stream",
          "text": [
            "/usr/local/lib/python3.6/dist-packages/numpy/lib/histograms.py:839: RuntimeWarning: invalid value encountered in greater_equal\n",
            "  keep = (tmp_a >= first_edge)\n",
            "/usr/local/lib/python3.6/dist-packages/numpy/lib/histograms.py:840: RuntimeWarning: invalid value encountered in less_equal\n",
            "  keep &= (tmp_a <= last_edge)\n"
          ],
          "name": "stderr"
        },
        {
          "output_type": "display_data",
          "data": {
            "image/png": "[encoded data removed]",
            "text/plain": [
              "<Figure size 432x288 with 1 Axes>"
            ]
          },
          "metadata": {
            "tags": [],
            "needs_background": "light"
          }
        }
      ]
    },
    {
      "cell_type": "code",
      "metadata": {
        "id": "WZu1EPrzSBnD",
        "colab_type": "code",
        "colab": {}
      },
      "source": [
        "def process_age(df):\n",
        "    df[\"Age\"] = df[\"Age\"].fillna(-0.5)\n",
        "    cut_points = [-1,0,5,12,18,35,60,100]\n",
        "    label_names = [\"Missing\",\"Infant\",\"Child\",\"Teenager\",\"Young Adult\",\"Adult\",\"Senior\"]\n",
        "    df[\"Age_categories\"] = pd.cut(df[\"Age\"],cut_points,labels=label_names)\n",
        "    return df"
      ],
      "execution_count": 16,
      "outputs": []
    },
    {
      "cell_type": "code",
      "metadata": {
        "id": "-a2y37FxqDTP",
        "colab_type": "code",
        "colab": {}
      },
      "source": [
        "train_set = process_age(train_set)\n",
        "test_set = process_age(test_set)\n",
        "\n",
        "#Dropping the original \"Age\" column from the dataframes.\n",
        "train_set = train_set.drop(\"Age\", axis=1)\n",
        "test_set = test_set.drop(\"Age\", axis=1)"
      ],
      "execution_count": 17,
      "outputs": []
    },
    {
      "cell_type": "code",
      "metadata": {
        "id": "fdzHkFfDqmhZ",
        "colab_type": "code",
        "colab": {
          "base_uri": "https://localhost:8080/",
          "height": 204
        },
        "outputId": "dda23df3-bafc-4f2e-89e3-1b7517df2501"
      },
      "source": [
        "test_set.head()"
      ],
      "execution_count": 18,
      "outputs": [
        {
          "output_type": "execute_result",
          "data": {
            "text/html": [
              "<div>\n",
              "<style scoped>\n",
              "    .dataframe tbody tr th:only-of-type {\n",
              "        vertical-align: middle;\n",
              "    }\n",
              "\n",
              "    .dataframe tbody tr th {\n",
              "        vertical-align: top;\n",
              "    }\n",
              "\n",
              "    .dataframe thead th {\n",
              "        text-align: right;\n",
              "    }\n",
              "</style>\n",
              "<table border=\"1\" class=\"dataframe\">\n",
              "  <thead>\n",
              "    <tr style=\"text-align: right;\">\n",
              "      <th></th>\n",
              "      <th>PassengerId</th>\n",
              "      <th>Pclass</th>\n",
              "      <th>Name</th>\n",
              "      <th>Sex</th>\n",
              "      <th>SibSp</th>\n",
              "      <th>Parch</th>\n",
              "      <th>Fare</th>\n",
              "      <th>Embarked</th>\n",
              "      <th>Age_categories</th>\n",
              "    </tr>\n",
              "  </thead>\n",
              "  <tbody>\n",
              "    <tr>\n",
              "      <th>0</th>\n",
              "      <td>892</td>\n",
              "      <td>3</td>\n",
              "      <td>Kelly, Mr. James</td>\n",
              "      <td>1</td>\n",
              "      <td>0</td>\n",
              "      <td>0</td>\n",
              "      <td>7.8292</td>\n",
              "      <td>Q</td>\n",
              "      <td>Young Adult</td>\n",
              "    </tr>\n",
              "    <tr>\n",
              "      <th>1</th>\n",
              "      <td>893</td>\n",
              "      <td>3</td>\n",
              "      <td>Wilkes, Mrs. James (Ellen Needs)</td>\n",
              "      <td>0</td>\n",
              "      <td>1</td>\n",
              "      <td>0</td>\n",
              "      <td>7.0000</td>\n",
              "      <td>S</td>\n",
              "      <td>Adult</td>\n",
              "    </tr>\n",
              "    <tr>\n",
              "      <th>2</th>\n",
              "      <td>894</td>\n",
              "      <td>2</td>\n",
              "      <td>Myles, Mr. Thomas Francis</td>\n",
              "      <td>1</td>\n",
              "      <td>0</td>\n",
              "      <td>0</td>\n",
              "      <td>9.6875</td>\n",
              "      <td>Q</td>\n",
              "      <td>Senior</td>\n",
              "    </tr>\n",
              "    <tr>\n",
              "      <th>3</th>\n",
              "      <td>895</td>\n",
              "      <td>3</td>\n",
              "      <td>Wirz, Mr. Albert</td>\n",
              "      <td>1</td>\n",
              "      <td>0</td>\n",
              "      <td>0</td>\n",
              "      <td>8.6625</td>\n",
              "      <td>S</td>\n",
              "      <td>Young Adult</td>\n",
              "    </tr>\n",
              "    <tr>\n",
              "      <th>4</th>\n",
              "      <td>896</td>\n",
              "      <td>3</td>\n",
              "      <td>Hirvonen, Mrs. Alexander (Helga E Lindqvist)</td>\n",
              "      <td>0</td>\n",
              "      <td>1</td>\n",
              "      <td>1</td>\n",
              "      <td>12.2875</td>\n",
              "      <td>S</td>\n",
              "      <td>Young Adult</td>\n",
              "    </tr>\n",
              "  </tbody>\n",
              "</table>\n",
              "</div>"
            ],
            "text/plain": [
              "   PassengerId  Pclass  ... Embarked  Age_categories\n",
              "0          892       3  ...        Q     Young Adult\n",
              "1          893       3  ...        S           Adult\n",
              "2          894       2  ...        Q          Senior\n",
              "3          895       3  ...        S     Young Adult\n",
              "4          896       3  ...        S     Young Adult\n",
              "\n",
              "[5 rows x 9 columns]"
            ]
          },
          "metadata": {
            "tags": []
          },
          "execution_count": 18
        }
      ]
    },
    {
      "cell_type": "markdown",
      "metadata": {
        "id": "lWvp4-6qvPdR",
        "colab_type": "text"
      },
      "source": [
        "## 2.4 SibSp and Parch"
      ]
    },
    {
      "cell_type": "markdown",
      "metadata": {
        "id": "xf09dq0VvZNt",
        "colab_type": "text"
      },
      "source": [
        "Let's create a new column called \"Lone_Traveler\". If both SibSp and Parch equals zero for a passenger, they will be labeled 1 (alone), else, will be a 0 (not alone)"
      ]
    },
    {
      "cell_type": "code",
      "metadata": {
        "id": "4XstkC8GvVQj",
        "colab_type": "code",
        "colab": {}
      },
      "source": [
        "def Lone_Traveler(df):\n",
        "\n",
        "  if df[\"Parch\"] == 0 and df[\"SibSp\"] == 0:\n",
        "    return 1\n",
        "  else:\n",
        "    return 0"
      ],
      "execution_count": 19,
      "outputs": []
    },
    {
      "cell_type": "code",
      "metadata": {
        "id": "MKpI7BOhwPSM",
        "colab_type": "code",
        "colab": {}
      },
      "source": [
        "train_set[\"Lone_Traveler\"] = train_set.apply(Lone_Traveler, axis=1)\n",
        "test_set[\"Lone_Traveler\"] = test_set.apply(Lone_Traveler, axis=1)"
      ],
      "execution_count": 20,
      "outputs": []
    },
    {
      "cell_type": "code",
      "metadata": {
        "id": "uf7Xba_Zw2mP",
        "colab_type": "code",
        "colab": {
          "base_uri": "https://localhost:8080/",
          "height": 111
        },
        "outputId": "5142960c-5801-43ed-8d4e-a29fb5e9639d"
      },
      "source": [
        "train_set[[\"Lone_Traveler\",\"Survived\"]].groupby(\"Lone_Traveler\", as_index=False).mean()"
      ],
      "execution_count": 21,
      "outputs": [
        {
          "output_type": "execute_result",
          "data": {
            "text/html": [
              "<div>\n",
              "<style scoped>\n",
              "    .dataframe tbody tr th:only-of-type {\n",
              "        vertical-align: middle;\n",
              "    }\n",
              "\n",
              "    .dataframe tbody tr th {\n",
              "        vertical-align: top;\n",
              "    }\n",
              "\n",
              "    .dataframe thead th {\n",
              "        text-align: right;\n",
              "    }\n",
              "</style>\n",
              "<table border=\"1\" class=\"dataframe\">\n",
              "  <thead>\n",
              "    <tr style=\"text-align: right;\">\n",
              "      <th></th>\n",
              "      <th>Lone_Traveler</th>\n",
              "      <th>Survived</th>\n",
              "    </tr>\n",
              "  </thead>\n",
              "  <tbody>\n",
              "    <tr>\n",
              "      <th>0</th>\n",
              "      <td>0</td>\n",
              "      <td>0.505650</td>\n",
              "    </tr>\n",
              "    <tr>\n",
              "      <th>1</th>\n",
              "      <td>1</td>\n",
              "      <td>0.303538</td>\n",
              "    </tr>\n",
              "  </tbody>\n",
              "</table>\n",
              "</div>"
            ],
            "text/plain": [
              "   Lone_Traveler  Survived\n",
              "0              0  0.505650\n",
              "1              1  0.303538"
            ]
          },
          "metadata": {
            "tags": []
          },
          "execution_count": 21
        }
      ]
    },
    {
      "cell_type": "markdown",
      "metadata": {
        "id": "4aIxEyU42VJw",
        "colab_type": "text"
      },
      "source": [
        "Interesting. People who traveled alone had a 50% chance of survival while people that traveled with a sibling, spouse, parent or child had a survival chance reduced to 30%.\n",
        "Let's drop \"SibSp\" and \"Parch\" and opt to have the \"Lone_Traveler\" Column only, instead."
      ]
    },
    {
      "cell_type": "code",
      "metadata": {
        "id": "-cyFXtv-20jj",
        "colab_type": "code",
        "colab": {}
      },
      "source": [
        "drop_cols = [\"SibSp\", \"Parch\"]\n",
        "train_set = train_set.drop(drop_cols, axis=1)\n",
        "test_set = test_set.drop(drop_cols, axis=1)"
      ],
      "execution_count": 22,
      "outputs": []
    },
    {
      "cell_type": "markdown",
      "metadata": {
        "id": "yAUbRjdf6RsY",
        "colab_type": "text"
      },
      "source": [
        "## 2.5 Fare"
      ]
    },
    {
      "cell_type": "markdown",
      "metadata": {
        "id": "neLJJxae6cCT",
        "colab_type": "text"
      },
      "source": [
        "Let's see the distribution of the \"Fare\" column."
      ]
    },
    {
      "cell_type": "code",
      "metadata": {
        "id": "XwkU-UKH567m",
        "colab_type": "code",
        "colab": {
          "base_uri": "https://localhost:8080/",
          "height": 265
        },
        "outputId": "bd9bc97a-9d85-488a-d785-6c4b13aebd32"
      },
      "source": [
        "plt.hist(train_set[\"Fare\"],bins=20)\n",
        "plt.show()"
      ],
      "execution_count": 23,
      "outputs": [
        {
          "output_type": "display_data",
          "data": {
            "image/png": "[encoded data removed]",
            "text/plain": [
              "<Figure size 432x288 with 1 Axes>"
            ]
          },
          "metadata": {
            "tags": [],
            "needs_background": "light"
          }
        }
      ]
    },
    {
      "cell_type": "markdown",
      "metadata": {
        "id": "Bv66o2DN6y2i",
        "colab_type": "text"
      },
      "source": [
        "Let's see the median fare for each Passenger class."
      ]
    },
    {
      "cell_type": "code",
      "metadata": {
        "id": "IfQflzbT59A4",
        "colab_type": "code",
        "colab": {
          "base_uri": "https://localhost:8080/",
          "height": 295
        },
        "outputId": "414825e8-8209-45e5-f602-a8d39c93fcb6"
      },
      "source": [
        "class_fares = train_set[[\"Fare\",\"Pclass\"]].groupby(\"Pclass\",as_index=False).mean()\n",
        "\n",
        "plt.bar(class_fares[\"Pclass\"], class_fares[\"Fare\"], color='m')\n",
        "plt.xlabel(\"Pclass\")\n",
        "plt.ylabel(\"Mean Fare\")\n",
        "plt.title(\"Mean Fare paid for each class\")\n",
        "plt.xticks(class_fares[\"Pclass\"])\n",
        "plt.show()"
      ],
      "execution_count": 24,
      "outputs": [
        {
          "output_type": "display_data",
          "data": {
            "image/png": "[encoded data removed]",
            "text/plain": [
              "<Figure size 432x288 with 1 Axes>"
            ]
          },
          "metadata": {
            "tags": [],
            "needs_background": "light"
          }
        }
      ]
    },
    {
      "cell_type": "code",
      "metadata": {
        "id": "gheRrcPQ-9l6",
        "colab_type": "code",
        "colab": {
          "base_uri": "https://localhost:8080/",
          "height": 89
        },
        "outputId": "4a90271c-7fce-4f68-ca3c-ae83ad08d0d4"
      },
      "source": [
        "print(test_set[test_set[\"Fare\"].isnull()])"
      ],
      "execution_count": 25,
      "outputs": [
        {
          "output_type": "stream",
          "text": [
            "     PassengerId  Pclass  ... Age_categories  Lone_Traveler\n",
            "152         1044       3  ...         Senior              1\n",
            "\n",
            "[1 rows x 8 columns]\n"
          ],
          "name": "stdout"
        }
      ]
    },
    {
      "cell_type": "code",
      "metadata": {
        "id": "MbBdcO8-AQvc",
        "colab_type": "code",
        "colab": {}
      },
      "source": [
        "fare_null_row = test_set[test_set[\"Fare\"].isnull()]\n",
        "fnr_pclass = fare_null_row[\"Pclass\"]\n",
        "pclass_means = train_set[[\"Fare\",\"Pclass\"]].groupby(\"Pclass\", as_index=False).mean()\n",
        "test_set[\"Fare\"] = test_set[\"Fare\"].replace(np.nan, pclass_means.iloc[2][\"Fare\"])"
      ],
      "execution_count": 26,
      "outputs": []
    },
    {
      "cell_type": "code",
      "metadata": {
        "id": "4BZzy2bFBpiJ",
        "colab_type": "code",
        "colab": {
          "base_uri": "https://localhost:8080/",
          "height": 35
        },
        "outputId": "f73ac72a-c886-4178-efe3-ff00708f84eb"
      },
      "source": [
        "test_set[\"Fare\"].isnull().sum()"
      ],
      "execution_count": 27,
      "outputs": [
        {
          "output_type": "execute_result",
          "data": {
            "text/plain": [
              "0"
            ]
          },
          "metadata": {
            "tags": []
          },
          "execution_count": 27
        }
      ]
    },
    {
      "cell_type": "code",
      "metadata": {
        "id": "f4_2R0o07CIE",
        "colab_type": "code",
        "colab": {
          "base_uri": "https://localhost:8080/",
          "height": 173
        },
        "outputId": "63bdc318-68f3-4083-caf1-a57e27c432e7"
      },
      "source": [
        "train_set[[\"Fare\",\"Pclass\"]].groupby(\"Pclass\",as_index=False).describe()"
      ],
      "execution_count": 28,
      "outputs": [
        {
          "output_type": "execute_result",
          "data": {
            "text/html": [
              "<div>\n",
              "<style scoped>\n",
              "    .dataframe tbody tr th:only-of-type {\n",
              "        vertical-align: middle;\n",
              "    }\n",
              "\n",
              "    .dataframe tbody tr th {\n",
              "        vertical-align: top;\n",
              "    }\n",
              "\n",
              "    .dataframe thead tr th {\n",
              "        text-align: left;\n",
              "    }\n",
              "</style>\n",
              "<table border=\"1\" class=\"dataframe\">\n",
              "  <thead>\n",
              "    <tr>\n",
              "      <th></th>\n",
              "      <th colspan=\"8\" halign=\"left\">Fare</th>\n",
              "      <th colspan=\"8\" halign=\"left\">Pclass</th>\n",
              "    </tr>\n",
              "    <tr>\n",
              "      <th></th>\n",
              "      <th>count</th>\n",
              "      <th>mean</th>\n",
              "      <th>std</th>\n",
              "      <th>min</th>\n",
              "      <th>25%</th>\n",
              "      <th>50%</th>\n",
              "      <th>75%</th>\n",
              "      <th>max</th>\n",
              "      <th>count</th>\n",
              "      <th>mean</th>\n",
              "      <th>std</th>\n",
              "      <th>min</th>\n",
              "      <th>25%</th>\n",
              "      <th>50%</th>\n",
              "      <th>75%</th>\n",
              "      <th>max</th>\n",
              "    </tr>\n",
              "  </thead>\n",
              "  <tbody>\n",
              "    <tr>\n",
              "      <th>0</th>\n",
              "      <td>216.0</td>\n",
              "      <td>84.154687</td>\n",
              "      <td>78.380373</td>\n",
              "      <td>0.0</td>\n",
              "      <td>30.92395</td>\n",
              "      <td>60.2875</td>\n",
              "      <td>93.5</td>\n",
              "      <td>512.3292</td>\n",
              "      <td>216.0</td>\n",
              "      <td>1.0</td>\n",
              "      <td>0.0</td>\n",
              "      <td>1.0</td>\n",
              "      <td>1.0</td>\n",
              "      <td>1.0</td>\n",
              "      <td>1.0</td>\n",
              "      <td>1.0</td>\n",
              "    </tr>\n",
              "    <tr>\n",
              "      <th>1</th>\n",
              "      <td>184.0</td>\n",
              "      <td>20.662183</td>\n",
              "      <td>13.417399</td>\n",
              "      <td>0.0</td>\n",
              "      <td>13.00000</td>\n",
              "      <td>14.2500</td>\n",
              "      <td>26.0</td>\n",
              "      <td>73.5000</td>\n",
              "      <td>184.0</td>\n",
              "      <td>2.0</td>\n",
              "      <td>0.0</td>\n",
              "      <td>2.0</td>\n",
              "      <td>2.0</td>\n",
              "      <td>2.0</td>\n",
              "      <td>2.0</td>\n",
              "      <td>2.0</td>\n",
              "    </tr>\n",
              "    <tr>\n",
              "      <th>2</th>\n",
              "      <td>491.0</td>\n",
              "      <td>13.675550</td>\n",
              "      <td>11.778142</td>\n",
              "      <td>0.0</td>\n",
              "      <td>7.75000</td>\n",
              "      <td>8.0500</td>\n",
              "      <td>15.5</td>\n",
              "      <td>69.5500</td>\n",
              "      <td>491.0</td>\n",
              "      <td>3.0</td>\n",
              "      <td>0.0</td>\n",
              "      <td>3.0</td>\n",
              "      <td>3.0</td>\n",
              "      <td>3.0</td>\n",
              "      <td>3.0</td>\n",
              "      <td>3.0</td>\n",
              "    </tr>\n",
              "  </tbody>\n",
              "</table>\n",
              "</div>"
            ],
            "text/plain": [
              "    Fare                                       ... Pclass                    \n",
              "   count       mean        std  min       25%  ...    min  25%  50%  75%  max\n",
              "0  216.0  84.154687  78.380373  0.0  30.92395  ...    1.0  1.0  1.0  1.0  1.0\n",
              "1  184.0  20.662183  13.417399  0.0  13.00000  ...    2.0  2.0  2.0  2.0  2.0\n",
              "2  491.0  13.675550  11.778142  0.0   7.75000  ...    3.0  3.0  3.0  3.0  3.0\n",
              "\n",
              "[3 rows x 16 columns]"
            ]
          },
          "metadata": {
            "tags": []
          },
          "execution_count": 28
        }
      ]
    },
    {
      "cell_type": "code",
      "metadata": {
        "id": "vmVp8bss7USU",
        "colab_type": "code",
        "colab": {
          "base_uri": "https://localhost:8080/",
          "height": 204
        },
        "outputId": "8d4b4a70-85b4-4888-f4aa-b1ed86587c66"
      },
      "source": [
        "train_set.head()"
      ],
      "execution_count": 29,
      "outputs": [
        {
          "output_type": "execute_result",
          "data": {
            "text/html": [
              "<div>\n",
              "<style scoped>\n",
              "    .dataframe tbody tr th:only-of-type {\n",
              "        vertical-align: middle;\n",
              "    }\n",
              "\n",
              "    .dataframe tbody tr th {\n",
              "        vertical-align: top;\n",
              "    }\n",
              "\n",
              "    .dataframe thead th {\n",
              "        text-align: right;\n",
              "    }\n",
              "</style>\n",
              "<table border=\"1\" class=\"dataframe\">\n",
              "  <thead>\n",
              "    <tr style=\"text-align: right;\">\n",
              "      <th></th>\n",
              "      <th>PassengerId</th>\n",
              "      <th>Survived</th>\n",
              "      <th>Pclass</th>\n",
              "      <th>Name</th>\n",
              "      <th>Sex</th>\n",
              "      <th>Fare</th>\n",
              "      <th>Embarked</th>\n",
              "      <th>Age_categories</th>\n",
              "      <th>Lone_Traveler</th>\n",
              "    </tr>\n",
              "  </thead>\n",
              "  <tbody>\n",
              "    <tr>\n",
              "      <th>0</th>\n",
              "      <td>1</td>\n",
              "      <td>0</td>\n",
              "      <td>3</td>\n",
              "      <td>Braund, Mr. Owen Harris</td>\n",
              "      <td>1</td>\n",
              "      <td>7.2500</td>\n",
              "      <td>S</td>\n",
              "      <td>Young Adult</td>\n",
              "      <td>0</td>\n",
              "    </tr>\n",
              "    <tr>\n",
              "      <th>1</th>\n",
              "      <td>2</td>\n",
              "      <td>1</td>\n",
              "      <td>1</td>\n",
              "      <td>Cumings, Mrs. John Bradley (Florence Briggs Th...</td>\n",
              "      <td>0</td>\n",
              "      <td>71.2833</td>\n",
              "      <td>C</td>\n",
              "      <td>Adult</td>\n",
              "      <td>0</td>\n",
              "    </tr>\n",
              "    <tr>\n",
              "      <th>2</th>\n",
              "      <td>3</td>\n",
              "      <td>1</td>\n",
              "      <td>3</td>\n",
              "      <td>Heikkinen, Miss. Laina</td>\n",
              "      <td>0</td>\n",
              "      <td>7.9250</td>\n",
              "      <td>S</td>\n",
              "      <td>Young Adult</td>\n",
              "      <td>1</td>\n",
              "    </tr>\n",
              "    <tr>\n",
              "      <th>3</th>\n",
              "      <td>4</td>\n",
              "      <td>1</td>\n",
              "      <td>1</td>\n",
              "      <td>Futrelle, Mrs. Jacques Heath (Lily May Peel)</td>\n",
              "      <td>0</td>\n",
              "      <td>53.1000</td>\n",
              "      <td>S</td>\n",
              "      <td>Young Adult</td>\n",
              "      <td>0</td>\n",
              "    </tr>\n",
              "    <tr>\n",
              "      <th>4</th>\n",
              "      <td>5</td>\n",
              "      <td>0</td>\n",
              "      <td>3</td>\n",
              "      <td>Allen, Mr. William Henry</td>\n",
              "      <td>1</td>\n",
              "      <td>8.0500</td>\n",
              "      <td>S</td>\n",
              "      <td>Young Adult</td>\n",
              "      <td>1</td>\n",
              "    </tr>\n",
              "  </tbody>\n",
              "</table>\n",
              "</div>"
            ],
            "text/plain": [
              "   PassengerId  Survived  Pclass  ... Embarked  Age_categories  Lone_Traveler\n",
              "0            1         0       3  ...        S     Young Adult              0\n",
              "1            2         1       1  ...        C           Adult              0\n",
              "2            3         1       3  ...        S     Young Adult              1\n",
              "3            4         1       1  ...        S     Young Adult              0\n",
              "4            5         0       3  ...        S     Young Adult              1\n",
              "\n",
              "[5 rows x 9 columns]"
            ]
          },
          "metadata": {
            "tags": []
          },
          "execution_count": 29
        }
      ]
    },
    {
      "cell_type": "markdown",
      "metadata": {
        "id": "SejG1mos9KRU",
        "colab_type": "text"
      },
      "source": [
        "Now, let's group the Fare values, based on the histogram above, so we can catergorize it for ML"
      ]
    },
    {
      "cell_type": "code",
      "metadata": {
        "id": "LmcS47bX9U6_",
        "colab_type": "code",
        "colab": {}
      },
      "source": [
        "cut_points = [0,12,50,100,1000]\n",
        "label_names = [\"0-12\",\"12-50\",\"50-100\",\"100+\"]\n",
        "\n",
        "train_set[\"Fare_categories\"] = pd.cut(train_set[\"Fare\"],cut_points,labels=label_names)\n",
        "test_set[\"Fare_categories\"] = pd.cut(test_set[\"Fare\"],cut_points,labels=label_names)\n",
        "\n",
        "train_set = train_set.drop(\"Fare\", axis=1)\n",
        "test_set = test_set.drop(\"Fare\", axis=1)\n"
      ],
      "execution_count": 30,
      "outputs": []
    },
    {
      "cell_type": "code",
      "metadata": {
        "id": "jediFRKt9qxl",
        "colab_type": "code",
        "colab": {
          "base_uri": "https://localhost:8080/",
          "height": 204
        },
        "outputId": "9b4aaac9-4b39-40fc-c10a-0400a36b73c8"
      },
      "source": [
        "test_set.head()"
      ],
      "execution_count": 31,
      "outputs": [
        {
          "output_type": "execute_result",
          "data": {
            "text/html": [
              "<div>\n",
              "<style scoped>\n",
              "    .dataframe tbody tr th:only-of-type {\n",
              "        vertical-align: middle;\n",
              "    }\n",
              "\n",
              "    .dataframe tbody tr th {\n",
              "        vertical-align: top;\n",
              "    }\n",
              "\n",
              "    .dataframe thead th {\n",
              "        text-align: right;\n",
              "    }\n",
              "</style>\n",
              "<table border=\"1\" class=\"dataframe\">\n",
              "  <thead>\n",
              "    <tr style=\"text-align: right;\">\n",
              "      <th></th>\n",
              "      <th>PassengerId</th>\n",
              "      <th>Pclass</th>\n",
              "      <th>Name</th>\n",
              "      <th>Sex</th>\n",
              "      <th>Embarked</th>\n",
              "      <th>Age_categories</th>\n",
              "      <th>Lone_Traveler</th>\n",
              "      <th>Fare_categories</th>\n",
              "    </tr>\n",
              "  </thead>\n",
              "  <tbody>\n",
              "    <tr>\n",
              "      <th>0</th>\n",
              "      <td>892</td>\n",
              "      <td>3</td>\n",
              "      <td>Kelly, Mr. James</td>\n",
              "      <td>1</td>\n",
              "      <td>Q</td>\n",
              "      <td>Young Adult</td>\n",
              "      <td>1</td>\n",
              "      <td>0-12</td>\n",
              "    </tr>\n",
              "    <tr>\n",
              "      <th>1</th>\n",
              "      <td>893</td>\n",
              "      <td>3</td>\n",
              "      <td>Wilkes, Mrs. James (Ellen Needs)</td>\n",
              "      <td>0</td>\n",
              "      <td>S</td>\n",
              "      <td>Adult</td>\n",
              "      <td>0</td>\n",
              "      <td>0-12</td>\n",
              "    </tr>\n",
              "    <tr>\n",
              "      <th>2</th>\n",
              "      <td>894</td>\n",
              "      <td>2</td>\n",
              "      <td>Myles, Mr. Thomas Francis</td>\n",
              "      <td>1</td>\n",
              "      <td>Q</td>\n",
              "      <td>Senior</td>\n",
              "      <td>1</td>\n",
              "      <td>0-12</td>\n",
              "    </tr>\n",
              "    <tr>\n",
              "      <th>3</th>\n",
              "      <td>895</td>\n",
              "      <td>3</td>\n",
              "      <td>Wirz, Mr. Albert</td>\n",
              "      <td>1</td>\n",
              "      <td>S</td>\n",
              "      <td>Young Adult</td>\n",
              "      <td>1</td>\n",
              "      <td>0-12</td>\n",
              "    </tr>\n",
              "    <tr>\n",
              "      <th>4</th>\n",
              "      <td>896</td>\n",
              "      <td>3</td>\n",
              "      <td>Hirvonen, Mrs. Alexander (Helga E Lindqvist)</td>\n",
              "      <td>0</td>\n",
              "      <td>S</td>\n",
              "      <td>Young Adult</td>\n",
              "      <td>0</td>\n",
              "      <td>12-50</td>\n",
              "    </tr>\n",
              "  </tbody>\n",
              "</table>\n",
              "</div>"
            ],
            "text/plain": [
              "   PassengerId  Pclass  ... Lone_Traveler  Fare_categories\n",
              "0          892       3  ...             1             0-12\n",
              "1          893       3  ...             0             0-12\n",
              "2          894       2  ...             1             0-12\n",
              "3          895       3  ...             1             0-12\n",
              "4          896       3  ...             0            12-50\n",
              "\n",
              "[5 rows x 8 columns]"
            ]
          },
          "metadata": {
            "tags": []
          },
          "execution_count": 31
        }
      ]
    },
    {
      "cell_type": "markdown",
      "metadata": {
        "id": "McSeYh4VXAff",
        "colab_type": "text"
      },
      "source": [
        "## 2.6 Embarked"
      ]
    },
    {
      "cell_type": "markdown",
      "metadata": {
        "id": "ZGrN5xjSXHTx",
        "colab_type": "text"
      },
      "source": [
        "Let's look at the survival rates of people embarked from different locations"
      ]
    },
    {
      "cell_type": "code",
      "metadata": {
        "id": "GciPEKb2XEZ1",
        "colab_type": "code",
        "colab": {
          "base_uri": "https://localhost:8080/",
          "height": 142
        },
        "outputId": "85a99dc3-c55d-442c-f76e-0a474e20eaff"
      },
      "source": [
        "train_set[[\"Embarked\", \"Survived\"]].groupby(\"Embarked\", as_index=False).mean()"
      ],
      "execution_count": 32,
      "outputs": [
        {
          "output_type": "execute_result",
          "data": {
            "text/html": [
              "<div>\n",
              "<style scoped>\n",
              "    .dataframe tbody tr th:only-of-type {\n",
              "        vertical-align: middle;\n",
              "    }\n",
              "\n",
              "    .dataframe tbody tr th {\n",
              "        vertical-align: top;\n",
              "    }\n",
              "\n",
              "    .dataframe thead th {\n",
              "        text-align: right;\n",
              "    }\n",
              "</style>\n",
              "<table border=\"1\" class=\"dataframe\">\n",
              "  <thead>\n",
              "    <tr style=\"text-align: right;\">\n",
              "      <th></th>\n",
              "      <th>Embarked</th>\n",
              "      <th>Survived</th>\n",
              "    </tr>\n",
              "  </thead>\n",
              "  <tbody>\n",
              "    <tr>\n",
              "      <th>0</th>\n",
              "      <td>C</td>\n",
              "      <td>0.553571</td>\n",
              "    </tr>\n",
              "    <tr>\n",
              "      <th>1</th>\n",
              "      <td>Q</td>\n",
              "      <td>0.389610</td>\n",
              "    </tr>\n",
              "    <tr>\n",
              "      <th>2</th>\n",
              "      <td>S</td>\n",
              "      <td>0.336957</td>\n",
              "    </tr>\n",
              "  </tbody>\n",
              "</table>\n",
              "</div>"
            ],
            "text/plain": [
              "  Embarked  Survived\n",
              "0        C  0.553571\n",
              "1        Q  0.389610\n",
              "2        S  0.336957"
            ]
          },
          "metadata": {
            "tags": []
          },
          "execution_count": 32
        }
      ]
    },
    {
      "cell_type": "markdown",
      "metadata": {
        "id": "LutXbREQYA2I",
        "colab_type": "text"
      },
      "source": [
        "Clearly, passengers that embarked from Port \"C\" have had a better chance of survival. This is another important feature for consideration in our Machine Learning model."
      ]
    },
    {
      "cell_type": "markdown",
      "metadata": {
        "id": "RsFSU6orYSLZ",
        "colab_type": "text"
      },
      "source": [
        "Let's replace the port letters with numericals."
      ]
    },
    {
      "cell_type": "code",
      "metadata": {
        "id": "cE7ttZhXZQ3Z",
        "colab_type": "code",
        "colab": {
          "base_uri": "https://localhost:8080/",
          "height": 204
        },
        "outputId": "cfb83e6c-74ed-4e0d-b405-09d0a1e062a7"
      },
      "source": [
        "train_set.head()"
      ],
      "execution_count": 33,
      "outputs": [
        {
          "output_type": "execute_result",
          "data": {
            "text/html": [
              "<div>\n",
              "<style scoped>\n",
              "    .dataframe tbody tr th:only-of-type {\n",
              "        vertical-align: middle;\n",
              "    }\n",
              "\n",
              "    .dataframe tbody tr th {\n",
              "        vertical-align: top;\n",
              "    }\n",
              "\n",
              "    .dataframe thead th {\n",
              "        text-align: right;\n",
              "    }\n",
              "</style>\n",
              "<table border=\"1\" class=\"dataframe\">\n",
              "  <thead>\n",
              "    <tr style=\"text-align: right;\">\n",
              "      <th></th>\n",
              "      <th>PassengerId</th>\n",
              "      <th>Survived</th>\n",
              "      <th>Pclass</th>\n",
              "      <th>Name</th>\n",
              "      <th>Sex</th>\n",
              "      <th>Embarked</th>\n",
              "      <th>Age_categories</th>\n",
              "      <th>Lone_Traveler</th>\n",
              "      <th>Fare_categories</th>\n",
              "    </tr>\n",
              "  </thead>\n",
              "  <tbody>\n",
              "    <tr>\n",
              "      <th>0</th>\n",
              "      <td>1</td>\n",
              "      <td>0</td>\n",
              "      <td>3</td>\n",
              "      <td>Braund, Mr. Owen Harris</td>\n",
              "      <td>1</td>\n",
              "      <td>S</td>\n",
              "      <td>Young Adult</td>\n",
              "      <td>0</td>\n",
              "      <td>0-12</td>\n",
              "    </tr>\n",
              "    <tr>\n",
              "      <th>1</th>\n",
              "      <td>2</td>\n",
              "      <td>1</td>\n",
              "      <td>1</td>\n",
              "      <td>Cumings, Mrs. John Bradley (Florence Briggs Th...</td>\n",
              "      <td>0</td>\n",
              "      <td>C</td>\n",
              "      <td>Adult</td>\n",
              "      <td>0</td>\n",
              "      <td>50-100</td>\n",
              "    </tr>\n",
              "    <tr>\n",
              "      <th>2</th>\n",
              "      <td>3</td>\n",
              "      <td>1</td>\n",
              "      <td>3</td>\n",
              "      <td>Heikkinen, Miss. Laina</td>\n",
              "      <td>0</td>\n",
              "      <td>S</td>\n",
              "      <td>Young Adult</td>\n",
              "      <td>1</td>\n",
              "      <td>0-12</td>\n",
              "    </tr>\n",
              "    <tr>\n",
              "      <th>3</th>\n",
              "      <td>4</td>\n",
              "      <td>1</td>\n",
              "      <td>1</td>\n",
              "      <td>Futrelle, Mrs. Jacques Heath (Lily May Peel)</td>\n",
              "      <td>0</td>\n",
              "      <td>S</td>\n",
              "      <td>Young Adult</td>\n",
              "      <td>0</td>\n",
              "      <td>50-100</td>\n",
              "    </tr>\n",
              "    <tr>\n",
              "      <th>4</th>\n",
              "      <td>5</td>\n",
              "      <td>0</td>\n",
              "      <td>3</td>\n",
              "      <td>Allen, Mr. William Henry</td>\n",
              "      <td>1</td>\n",
              "      <td>S</td>\n",
              "      <td>Young Adult</td>\n",
              "      <td>1</td>\n",
              "      <td>0-12</td>\n",
              "    </tr>\n",
              "  </tbody>\n",
              "</table>\n",
              "</div>"
            ],
            "text/plain": [
              "   PassengerId  Survived  Pclass  ... Age_categories  Lone_Traveler Fare_categories\n",
              "0            1         0       3  ...    Young Adult              0            0-12\n",
              "1            2         1       1  ...          Adult              0          50-100\n",
              "2            3         1       3  ...    Young Adult              1            0-12\n",
              "3            4         1       1  ...    Young Adult              0          50-100\n",
              "4            5         0       3  ...    Young Adult              1            0-12\n",
              "\n",
              "[5 rows x 9 columns]"
            ]
          },
          "metadata": {
            "tags": []
          },
          "execution_count": 33
        }
      ]
    },
    {
      "cell_type": "markdown",
      "metadata": {
        "id": "NsWIGY_Oib96",
        "colab_type": "text"
      },
      "source": [
        "Let's replace the two missing data rows of the \"Embarked\" column with the mode of that column"
      ]
    },
    {
      "cell_type": "code",
      "metadata": {
        "id": "zkIjfIBEijSc",
        "colab_type": "code",
        "colab": {
          "base_uri": "https://localhost:8080/",
          "height": 53
        },
        "outputId": "bd6b1cd1-8052-406d-b6b4-5f22baeabce5"
      },
      "source": [
        "print(\"Before =\", train_set[\"Embarked\"].isnull().sum())\n",
        "mode = train_set[\"Embarked\"].mode()\n",
        "train_set[\"Embarked\"] = train_set[\"Embarked\"].fillna(mode.iloc[0])\n",
        "print(\"After =\", train_set[\"Embarked\"].isnull().sum())\n"
      ],
      "execution_count": 34,
      "outputs": [
        {
          "output_type": "stream",
          "text": [
            "Before = 2\n",
            "After = 0\n"
          ],
          "name": "stdout"
        }
      ]
    },
    {
      "cell_type": "markdown",
      "metadata": {
        "id": "Qvxl3Q915zK7",
        "colab_type": "text"
      },
      "source": [
        "Since the data in \"Embarked\" are categorical, let's convert the column to dummy variables and remove the original column. "
      ]
    },
    {
      "cell_type": "code",
      "metadata": {
        "id": "BMWzoPCf3bT7",
        "colab_type": "code",
        "colab": {}
      },
      "source": [
        "train_embark_dummies = pd.get_dummies(train_set[\"Embarked\"], prefix=\"Embarked\")\n",
        "train_set = pd.concat([train_set, train_embark_dummies], axis=1)\n",
        "\n",
        "test_embark_dummies = pd.get_dummies(test_set[\"Embarked\"], prefix=\"Embarked\")\n",
        "test_set = pd.concat([test_set, test_embark_dummies], axis=1)"
      ],
      "execution_count": 35,
      "outputs": []
    },
    {
      "cell_type": "code",
      "metadata": {
        "id": "gKyVlnJ15m0e",
        "colab_type": "code",
        "colab": {
          "base_uri": "https://localhost:8080/",
          "height": 305
        },
        "outputId": "3fb6b3de-078a-42a5-99d3-39ece34e4d1c"
      },
      "source": [
        "print(train_set.head())\n",
        "print(test_set.head())"
      ],
      "execution_count": 36,
      "outputs": [
        {
          "output_type": "stream",
          "text": [
            "   PassengerId  Survived  Pclass  ... Embarked_C  Embarked_Q Embarked_S\n",
            "0            1         0       3  ...          0           0          1\n",
            "1            2         1       1  ...          1           0          0\n",
            "2            3         1       3  ...          0           0          1\n",
            "3            4         1       1  ...          0           0          1\n",
            "4            5         0       3  ...          0           0          1\n",
            "\n",
            "[5 rows x 12 columns]\n",
            "   PassengerId  Pclass  ... Embarked_Q  Embarked_S\n",
            "0          892       3  ...          1           0\n",
            "1          893       3  ...          0           1\n",
            "2          894       2  ...          1           0\n",
            "3          895       3  ...          0           1\n",
            "4          896       3  ...          0           1\n",
            "\n",
            "[5 rows x 11 columns]\n"
          ],
          "name": "stdout"
        }
      ]
    },
    {
      "cell_type": "code",
      "metadata": {
        "id": "2BZ5azfo5-jm",
        "colab_type": "code",
        "colab": {}
      },
      "source": [
        "train_set = train_set.drop(\"Embarked\", axis=1)\n",
        "test_set = test_set.drop(\"Embarked\", axis=1)"
      ],
      "execution_count": 37,
      "outputs": []
    },
    {
      "cell_type": "code",
      "metadata": {
        "id": "DLn-OHZG6VIS",
        "colab_type": "code",
        "colab": {
          "base_uri": "https://localhost:8080/",
          "height": 204
        },
        "outputId": "d1135e78-de9a-45ac-e42d-0691fb4461a9"
      },
      "source": [
        "test_set.head()"
      ],
      "execution_count": 38,
      "outputs": [
        {
          "output_type": "execute_result",
          "data": {
            "text/html": [
              "<div>\n",
              "<style scoped>\n",
              "    .dataframe tbody tr th:only-of-type {\n",
              "        vertical-align: middle;\n",
              "    }\n",
              "\n",
              "    .dataframe tbody tr th {\n",
              "        vertical-align: top;\n",
              "    }\n",
              "\n",
              "    .dataframe thead th {\n",
              "        text-align: right;\n",
              "    }\n",
              "</style>\n",
              "<table border=\"1\" class=\"dataframe\">\n",
              "  <thead>\n",
              "    <tr style=\"text-align: right;\">\n",
              "      <th></th>\n",
              "      <th>PassengerId</th>\n",
              "      <th>Pclass</th>\n",
              "      <th>Name</th>\n",
              "      <th>Sex</th>\n",
              "      <th>Age_categories</th>\n",
              "      <th>Lone_Traveler</th>\n",
              "      <th>Fare_categories</th>\n",
              "      <th>Embarked_C</th>\n",
              "      <th>Embarked_Q</th>\n",
              "      <th>Embarked_S</th>\n",
              "    </tr>\n",
              "  </thead>\n",
              "  <tbody>\n",
              "    <tr>\n",
              "      <th>0</th>\n",
              "      <td>892</td>\n",
              "      <td>3</td>\n",
              "      <td>Kelly, Mr. James</td>\n",
              "      <td>1</td>\n",
              "      <td>Young Adult</td>\n",
              "      <td>1</td>\n",
              "      <td>0-12</td>\n",
              "      <td>0</td>\n",
              "      <td>1</td>\n",
              "      <td>0</td>\n",
              "    </tr>\n",
              "    <tr>\n",
              "      <th>1</th>\n",
              "      <td>893</td>\n",
              "      <td>3</td>\n",
              "      <td>Wilkes, Mrs. James (Ellen Needs)</td>\n",
              "      <td>0</td>\n",
              "      <td>Adult</td>\n",
              "      <td>0</td>\n",
              "      <td>0-12</td>\n",
              "      <td>0</td>\n",
              "      <td>0</td>\n",
              "      <td>1</td>\n",
              "    </tr>\n",
              "    <tr>\n",
              "      <th>2</th>\n",
              "      <td>894</td>\n",
              "      <td>2</td>\n",
              "      <td>Myles, Mr. Thomas Francis</td>\n",
              "      <td>1</td>\n",
              "      <td>Senior</td>\n",
              "      <td>1</td>\n",
              "      <td>0-12</td>\n",
              "      <td>0</td>\n",
              "      <td>1</td>\n",
              "      <td>0</td>\n",
              "    </tr>\n",
              "    <tr>\n",
              "      <th>3</th>\n",
              "      <td>895</td>\n",
              "      <td>3</td>\n",
              "      <td>Wirz, Mr. Albert</td>\n",
              "      <td>1</td>\n",
              "      <td>Young Adult</td>\n",
              "      <td>1</td>\n",
              "      <td>0-12</td>\n",
              "      <td>0</td>\n",
              "      <td>0</td>\n",
              "      <td>1</td>\n",
              "    </tr>\n",
              "    <tr>\n",
              "      <th>4</th>\n",
              "      <td>896</td>\n",
              "      <td>3</td>\n",
              "      <td>Hirvonen, Mrs. Alexander (Helga E Lindqvist)</td>\n",
              "      <td>0</td>\n",
              "      <td>Young Adult</td>\n",
              "      <td>0</td>\n",
              "      <td>12-50</td>\n",
              "      <td>0</td>\n",
              "      <td>0</td>\n",
              "      <td>1</td>\n",
              "    </tr>\n",
              "  </tbody>\n",
              "</table>\n",
              "</div>"
            ],
            "text/plain": [
              "   PassengerId  Pclass  ... Embarked_Q  Embarked_S\n",
              "0          892       3  ...          1           0\n",
              "1          893       3  ...          0           1\n",
              "2          894       2  ...          1           0\n",
              "3          895       3  ...          0           1\n",
              "4          896       3  ...          0           1\n",
              "\n",
              "[5 rows x 10 columns]"
            ]
          },
          "metadata": {
            "tags": []
          },
          "execution_count": 38
        }
      ]
    },
    {
      "cell_type": "markdown",
      "metadata": {
        "id": "dQoGDi2GZmIq",
        "colab_type": "text"
      },
      "source": [
        "## 2.7 Name"
      ]
    },
    {
      "cell_type": "markdown",
      "metadata": {
        "id": "sF-skh1zVKPR",
        "colab_type": "text"
      },
      "source": [
        "Let's take a brief look at the \"Name\" column"
      ]
    },
    {
      "cell_type": "code",
      "metadata": {
        "id": "Mu9szfm-VR1u",
        "colab_type": "code",
        "colab": {
          "base_uri": "https://localhost:8080/",
          "height": 125
        },
        "outputId": "557ea42e-a80f-4245-f43f-bc33bb3d114a"
      },
      "source": [
        "train_set[\"Name\"].head()"
      ],
      "execution_count": 39,
      "outputs": [
        {
          "output_type": "execute_result",
          "data": {
            "text/plain": [
              "0                              Braund, Mr. Owen Harris\n",
              "1    Cumings, Mrs. John Bradley (Florence Briggs Th...\n",
              "2                               Heikkinen, Miss. Laina\n",
              "3         Futrelle, Mrs. Jacques Heath (Lily May Peel)\n",
              "4                             Allen, Mr. William Henry\n",
              "Name: Name, dtype: object"
            ]
          },
          "metadata": {
            "tags": []
          },
          "execution_count": 39
        }
      ]
    },
    {
      "cell_type": "markdown",
      "metadata": {
        "id": "t576563ZVyTO",
        "colab_type": "text"
      },
      "source": [
        "The names mean nothing in the ML model. However, we could extract the prefixes (or titles) from them and see if they make any sense in analysis."
      ]
    },
    {
      "cell_type": "code",
      "metadata": {
        "id": "zHq_Khj4V_cb",
        "colab_type": "code",
        "colab": {
          "base_uri": "https://localhost:8080/",
          "height": 125
        },
        "outputId": "5bc00f91-3abb-4d45-fc01-11c5045e9acc"
      },
      "source": [
        "prefixes = train_set[\"Name\"].str.extract(' ([A-Za-z]+)\\.',expand=False)\n",
        "prefixes.head()"
      ],
      "execution_count": 40,
      "outputs": [
        {
          "output_type": "execute_result",
          "data": {
            "text/plain": [
              "0      Mr\n",
              "1     Mrs\n",
              "2    Miss\n",
              "3     Mrs\n",
              "4      Mr\n",
              "Name: Name, dtype: object"
            ]
          },
          "metadata": {
            "tags": []
          },
          "execution_count": 40
        }
      ]
    },
    {
      "cell_type": "markdown",
      "metadata": {
        "id": "sm0a2q6eWPJH",
        "colab_type": "text"
      },
      "source": [
        "Let's take a look at the unqiue values in prefixes"
      ]
    },
    {
      "cell_type": "code",
      "metadata": {
        "id": "wOzjL3mtWVzF",
        "colab_type": "code",
        "colab": {
          "base_uri": "https://localhost:8080/",
          "height": 341
        },
        "outputId": "95c8f84e-a587-499a-899e-769be314985b"
      },
      "source": [
        "prefixes.value_counts()"
      ],
      "execution_count": 41,
      "outputs": [
        {
          "output_type": "execute_result",
          "data": {
            "text/plain": [
              "Mr          517\n",
              "Miss        182\n",
              "Mrs         125\n",
              "Master       40\n",
              "Dr            7\n",
              "Rev           6\n",
              "Col           2\n",
              "Mlle          2\n",
              "Major         2\n",
              "Ms            1\n",
              "Mme           1\n",
              "Countess      1\n",
              "Jonkheer      1\n",
              "Sir           1\n",
              "Lady          1\n",
              "Don           1\n",
              "Capt          1\n",
              "Name: Name, dtype: int64"
            ]
          },
          "metadata": {
            "tags": []
          },
          "execution_count": 41
        }
      ]
    },
    {
      "cell_type": "code",
      "metadata": {
        "id": "I4Pw2ZdZXE8L",
        "colab_type": "code",
        "colab": {}
      },
      "source": [
        "titles = {\n",
        "    \"Mr\" :         \"Mr\",\n",
        "    \"Mme\":         \"Mrs\",\n",
        "    \"Ms\":          \"Mrs\",\n",
        "    \"Mrs\" :        \"Mrs\",\n",
        "    \"Master\" :     \"Master\",\n",
        "    \"Mlle\":        \"Miss\",\n",
        "    \"Miss\" :       \"Miss\",\n",
        "    \"Capt\":        \"Officer\",\n",
        "    \"Col\":         \"Officer\",\n",
        "    \"Major\":       \"Officer\",\n",
        "    \"Dr\":          \"Officer\",\n",
        "    \"Rev\":         \"Rev\",\n",
        "    \"Jonkheer\":    \"Royalty\",\n",
        "    \"Don\":         \"Royalty\",\n",
        "    \"Sir\" :        \"Royalty\",\n",
        "    \"Countess\":    \"Royalty\",\n",
        "    \"Dona\":        \"Royalty\",\n",
        "    \"Lady\" :       \"Royalty\"\n",
        "}"
      ],
      "execution_count": 42,
      "outputs": []
    },
    {
      "cell_type": "code",
      "metadata": {
        "id": "14Q9YhgEWpMf",
        "colab_type": "code",
        "colab": {}
      },
      "source": [
        "train_set[\"Name_prefix\"] = prefixes.map(titles)\n",
        "prefixes = train_set[\"Name\"].str.extract(' ([A-Za-z]+)\\.',expand=False)\n",
        "test_set[\"Name_prefix\"] = prefixes.map(titles)"
      ],
      "execution_count": 43,
      "outputs": []
    },
    {
      "cell_type": "markdown",
      "metadata": {
        "id": "5cPIkfG8ZPkE",
        "colab_type": "text"
      },
      "source": [
        "Let's remove the \"Name\" column"
      ]
    },
    {
      "cell_type": "code",
      "metadata": {
        "id": "V1ELe3mHZUAe",
        "colab_type": "code",
        "colab": {}
      },
      "source": [
        "train_set = train_set.drop(\"Name\", axis=1)\n",
        "test_set = test_set.drop(\"Name\", axis=1)"
      ],
      "execution_count": 44,
      "outputs": []
    },
    {
      "cell_type": "code",
      "metadata": {
        "id": "gbqIWlIrCgXF",
        "colab_type": "code",
        "colab": {}
      },
      "source": [
        "train_set[\"Name_prefix\"] = train_set[\"Name_prefix\"].astype('category')\n",
        "test_set[\"Name_prefix\"] = test_set[\"Name_prefix\"].astype('category')"
      ],
      "execution_count": 45,
      "outputs": []
    },
    {
      "cell_type": "code",
      "metadata": {
        "id": "RfWZBPhwZ61P",
        "colab_type": "code",
        "colab": {
          "base_uri": "https://localhost:8080/",
          "height": 204
        },
        "outputId": "2eaeabc7-38a6-4247-f144-9887994f7470"
      },
      "source": [
        "train_set.head()"
      ],
      "execution_count": 46,
      "outputs": [
        {
          "output_type": "execute_result",
          "data": {
            "text/html": [
              "<div>\n",
              "<style scoped>\n",
              "    .dataframe tbody tr th:only-of-type {\n",
              "        vertical-align: middle;\n",
              "    }\n",
              "\n",
              "    .dataframe tbody tr th {\n",
              "        vertical-align: top;\n",
              "    }\n",
              "\n",
              "    .dataframe thead th {\n",
              "        text-align: right;\n",
              "    }\n",
              "</style>\n",
              "<table border=\"1\" class=\"dataframe\">\n",
              "  <thead>\n",
              "    <tr style=\"text-align: right;\">\n",
              "      <th></th>\n",
              "      <th>PassengerId</th>\n",
              "      <th>Survived</th>\n",
              "      <th>Pclass</th>\n",
              "      <th>Sex</th>\n",
              "      <th>Age_categories</th>\n",
              "      <th>Lone_Traveler</th>\n",
              "      <th>Fare_categories</th>\n",
              "      <th>Embarked_C</th>\n",
              "      <th>Embarked_Q</th>\n",
              "      <th>Embarked_S</th>\n",
              "      <th>Name_prefix</th>\n",
              "    </tr>\n",
              "  </thead>\n",
              "  <tbody>\n",
              "    <tr>\n",
              "      <th>0</th>\n",
              "      <td>1</td>\n",
              "      <td>0</td>\n",
              "      <td>3</td>\n",
              "      <td>1</td>\n",
              "      <td>Young Adult</td>\n",
              "      <td>0</td>\n",
              "      <td>0-12</td>\n",
              "      <td>0</td>\n",
              "      <td>0</td>\n",
              "      <td>1</td>\n",
              "      <td>Mr</td>\n",
              "    </tr>\n",
              "    <tr>\n",
              "      <th>1</th>\n",
              "      <td>2</td>\n",
              "      <td>1</td>\n",
              "      <td>1</td>\n",
              "      <td>0</td>\n",
              "      <td>Adult</td>\n",
              "      <td>0</td>\n",
              "      <td>50-100</td>\n",
              "      <td>1</td>\n",
              "      <td>0</td>\n",
              "      <td>0</td>\n",
              "      <td>Mrs</td>\n",
              "    </tr>\n",
              "    <tr>\n",
              "      <th>2</th>\n",
              "      <td>3</td>\n",
              "      <td>1</td>\n",
              "      <td>3</td>\n",
              "      <td>0</td>\n",
              "      <td>Young Adult</td>\n",
              "      <td>1</td>\n",
              "      <td>0-12</td>\n",
              "      <td>0</td>\n",
              "      <td>0</td>\n",
              "      <td>1</td>\n",
              "      <td>Miss</td>\n",
              "    </tr>\n",
              "    <tr>\n",
              "      <th>3</th>\n",
              "      <td>4</td>\n",
              "      <td>1</td>\n",
              "      <td>1</td>\n",
              "      <td>0</td>\n",
              "      <td>Young Adult</td>\n",
              "      <td>0</td>\n",
              "      <td>50-100</td>\n",
              "      <td>0</td>\n",
              "      <td>0</td>\n",
              "      <td>1</td>\n",
              "      <td>Mrs</td>\n",
              "    </tr>\n",
              "    <tr>\n",
              "      <th>4</th>\n",
              "      <td>5</td>\n",
              "      <td>0</td>\n",
              "      <td>3</td>\n",
              "      <td>1</td>\n",
              "      <td>Young Adult</td>\n",
              "      <td>1</td>\n",
              "      <td>0-12</td>\n",
              "      <td>0</td>\n",
              "      <td>0</td>\n",
              "      <td>1</td>\n",
              "      <td>Mr</td>\n",
              "    </tr>\n",
              "  </tbody>\n",
              "</table>\n",
              "</div>"
            ],
            "text/plain": [
              "   PassengerId  Survived  Pclass  ...  Embarked_Q Embarked_S  Name_prefix\n",
              "0            1         0       3  ...           0          1           Mr\n",
              "1            2         1       1  ...           0          0          Mrs\n",
              "2            3         1       3  ...           0          1         Miss\n",
              "3            4         1       1  ...           0          1          Mrs\n",
              "4            5         0       3  ...           0          1           Mr\n",
              "\n",
              "[5 rows x 11 columns]"
            ]
          },
          "metadata": {
            "tags": []
          },
          "execution_count": 46
        }
      ]
    },
    {
      "cell_type": "code",
      "metadata": {
        "id": "YjExtgA3Z8-n",
        "colab_type": "code",
        "colab": {
          "base_uri": "https://localhost:8080/",
          "height": 204
        },
        "outputId": "798d4a98-db75-4bae-cf41-7d451db580ad"
      },
      "source": [
        "test_set.head()"
      ],
      "execution_count": 47,
      "outputs": [
        {
          "output_type": "execute_result",
          "data": {
            "text/html": [
              "<div>\n",
              "<style scoped>\n",
              "    .dataframe tbody tr th:only-of-type {\n",
              "        vertical-align: middle;\n",
              "    }\n",
              "\n",
              "    .dataframe tbody tr th {\n",
              "        vertical-align: top;\n",
              "    }\n",
              "\n",
              "    .dataframe thead th {\n",
              "        text-align: right;\n",
              "    }\n",
              "</style>\n",
              "<table border=\"1\" class=\"dataframe\">\n",
              "  <thead>\n",
              "    <tr style=\"text-align: right;\">\n",
              "      <th></th>\n",
              "      <th>PassengerId</th>\n",
              "      <th>Pclass</th>\n",
              "      <th>Sex</th>\n",
              "      <th>Age_categories</th>\n",
              "      <th>Lone_Traveler</th>\n",
              "      <th>Fare_categories</th>\n",
              "      <th>Embarked_C</th>\n",
              "      <th>Embarked_Q</th>\n",
              "      <th>Embarked_S</th>\n",
              "      <th>Name_prefix</th>\n",
              "    </tr>\n",
              "  </thead>\n",
              "  <tbody>\n",
              "    <tr>\n",
              "      <th>0</th>\n",
              "      <td>892</td>\n",
              "      <td>3</td>\n",
              "      <td>1</td>\n",
              "      <td>Young Adult</td>\n",
              "      <td>1</td>\n",
              "      <td>0-12</td>\n",
              "      <td>0</td>\n",
              "      <td>1</td>\n",
              "      <td>0</td>\n",
              "      <td>Mr</td>\n",
              "    </tr>\n",
              "    <tr>\n",
              "      <th>1</th>\n",
              "      <td>893</td>\n",
              "      <td>3</td>\n",
              "      <td>0</td>\n",
              "      <td>Adult</td>\n",
              "      <td>0</td>\n",
              "      <td>0-12</td>\n",
              "      <td>0</td>\n",
              "      <td>0</td>\n",
              "      <td>1</td>\n",
              "      <td>Mrs</td>\n",
              "    </tr>\n",
              "    <tr>\n",
              "      <th>2</th>\n",
              "      <td>894</td>\n",
              "      <td>2</td>\n",
              "      <td>1</td>\n",
              "      <td>Senior</td>\n",
              "      <td>1</td>\n",
              "      <td>0-12</td>\n",
              "      <td>0</td>\n",
              "      <td>1</td>\n",
              "      <td>0</td>\n",
              "      <td>Miss</td>\n",
              "    </tr>\n",
              "    <tr>\n",
              "      <th>3</th>\n",
              "      <td>895</td>\n",
              "      <td>3</td>\n",
              "      <td>1</td>\n",
              "      <td>Young Adult</td>\n",
              "      <td>1</td>\n",
              "      <td>0-12</td>\n",
              "      <td>0</td>\n",
              "      <td>0</td>\n",
              "      <td>1</td>\n",
              "      <td>Mrs</td>\n",
              "    </tr>\n",
              "    <tr>\n",
              "      <th>4</th>\n",
              "      <td>896</td>\n",
              "      <td>3</td>\n",
              "      <td>0</td>\n",
              "      <td>Young Adult</td>\n",
              "      <td>0</td>\n",
              "      <td>12-50</td>\n",
              "      <td>0</td>\n",
              "      <td>0</td>\n",
              "      <td>1</td>\n",
              "      <td>Mr</td>\n",
              "    </tr>\n",
              "  </tbody>\n",
              "</table>\n",
              "</div>"
            ],
            "text/plain": [
              "   PassengerId  Pclass  Sex  ... Embarked_Q  Embarked_S Name_prefix\n",
              "0          892       3    1  ...          1           0          Mr\n",
              "1          893       3    0  ...          0           1         Mrs\n",
              "2          894       2    1  ...          1           0        Miss\n",
              "3          895       3    1  ...          0           1         Mrs\n",
              "4          896       3    0  ...          0           1          Mr\n",
              "\n",
              "[5 rows x 10 columns]"
            ]
          },
          "metadata": {
            "tags": []
          },
          "execution_count": 47
        }
      ]
    },
    {
      "cell_type": "code",
      "metadata": {
        "id": "-4owMuLPaZLX",
        "colab_type": "code",
        "colab": {
          "base_uri": "https://localhost:8080/",
          "height": 295
        },
        "outputId": "4cd96051-fe56-4451-b9db-cc1a3face74e"
      },
      "source": [
        "prefix_survival = train_set[['Survived','Name_prefix']].groupby(\"Name_prefix\", as_index=False).mean().sort_values(\"Survived\")\n",
        "plt.bar(prefix_survival[\"Name_prefix\"], prefix_survival[\"Survived\"])\n",
        "plt.xlabel(\"Name Prefix\")\n",
        "plt.ylabel(\"Survival Rate\")\n",
        "plt.title(\"Survival Rates per Name Prefix\")\n",
        "plt.show()"
      ],
      "execution_count": 48,
      "outputs": [
        {
          "output_type": "display_data",
          "data": {
            "image/png": "[encoded data removed]",
            "text/plain": [
              "<Figure size 432x288 with 1 Axes>"
            ]
          },
          "metadata": {
            "tags": [],
            "needs_background": "light"
          }
        }
      ]
    },
    {
      "cell_type": "markdown",
      "metadata": {
        "id": "onYi2jT4aGQQ",
        "colab_type": "text"
      },
      "source": [
        "Now we are only left with numerical columns. "
      ]
    },
    {
      "cell_type": "markdown",
      "metadata": {
        "id": "oW33IlP6grfF",
        "colab_type": "text"
      },
      "source": [
        "# 3. Making Predictions"
      ]
    },
    {
      "cell_type": "markdown",
      "metadata": {
        "id": "UD_WNW4R7CFQ",
        "colab_type": "text"
      },
      "source": [
        "## 3.1 Data Preprocessing"
      ]
    },
    {
      "cell_type": "code",
      "metadata": {
        "id": "YbZlC5d17JKz",
        "colab_type": "code",
        "colab": {
          "base_uri": "https://localhost:8080/",
          "height": 204
        },
        "outputId": "3bcf4a07-44a9-4c53-b108-ff8e5ede4a14"
      },
      "source": [
        "train_set.head()"
      ],
      "execution_count": 49,
      "outputs": [
        {
          "output_type": "execute_result",
          "data": {
            "text/html": [
              "<div>\n",
              "<style scoped>\n",
              "    .dataframe tbody tr th:only-of-type {\n",
              "        vertical-align: middle;\n",
              "    }\n",
              "\n",
              "    .dataframe tbody tr th {\n",
              "        vertical-align: top;\n",
              "    }\n",
              "\n",
              "    .dataframe thead th {\n",
              "        text-align: right;\n",
              "    }\n",
              "</style>\n",
              "<table border=\"1\" class=\"dataframe\">\n",
              "  <thead>\n",
              "    <tr style=\"text-align: right;\">\n",
              "      <th></th>\n",
              "      <th>PassengerId</th>\n",
              "      <th>Survived</th>\n",
              "      <th>Pclass</th>\n",
              "      <th>Sex</th>\n",
              "      <th>Age_categories</th>\n",
              "      <th>Lone_Traveler</th>\n",
              "      <th>Fare_categories</th>\n",
              "      <th>Embarked_C</th>\n",
              "      <th>Embarked_Q</th>\n",
              "      <th>Embarked_S</th>\n",
              "      <th>Name_prefix</th>\n",
              "    </tr>\n",
              "  </thead>\n",
              "  <tbody>\n",
              "    <tr>\n",
              "      <th>0</th>\n",
              "      <td>1</td>\n",
              "      <td>0</td>\n",
              "      <td>3</td>\n",
              "      <td>1</td>\n",
              "      <td>Young Adult</td>\n",
              "      <td>0</td>\n",
              "      <td>0-12</td>\n",
              "      <td>0</td>\n",
              "      <td>0</td>\n",
              "      <td>1</td>\n",
              "      <td>Mr</td>\n",
              "    </tr>\n",
              "    <tr>\n",
              "      <th>1</th>\n",
              "      <td>2</td>\n",
              "      <td>1</td>\n",
              "      <td>1</td>\n",
              "      <td>0</td>\n",
              "      <td>Adult</td>\n",
              "      <td>0</td>\n",
              "      <td>50-100</td>\n",
              "      <td>1</td>\n",
              "      <td>0</td>\n",
              "      <td>0</td>\n",
              "      <td>Mrs</td>\n",
              "    </tr>\n",
              "    <tr>\n",
              "      <th>2</th>\n",
              "      <td>3</td>\n",
              "      <td>1</td>\n",
              "      <td>3</td>\n",
              "      <td>0</td>\n",
              "      <td>Young Adult</td>\n",
              "      <td>1</td>\n",
              "      <td>0-12</td>\n",
              "      <td>0</td>\n",
              "      <td>0</td>\n",
              "      <td>1</td>\n",
              "      <td>Miss</td>\n",
              "    </tr>\n",
              "    <tr>\n",
              "      <th>3</th>\n",
              "      <td>4</td>\n",
              "      <td>1</td>\n",
              "      <td>1</td>\n",
              "      <td>0</td>\n",
              "      <td>Young Adult</td>\n",
              "      <td>0</td>\n",
              "      <td>50-100</td>\n",
              "      <td>0</td>\n",
              "      <td>0</td>\n",
              "      <td>1</td>\n",
              "      <td>Mrs</td>\n",
              "    </tr>\n",
              "    <tr>\n",
              "      <th>4</th>\n",
              "      <td>5</td>\n",
              "      <td>0</td>\n",
              "      <td>3</td>\n",
              "      <td>1</td>\n",
              "      <td>Young Adult</td>\n",
              "      <td>1</td>\n",
              "      <td>0-12</td>\n",
              "      <td>0</td>\n",
              "      <td>0</td>\n",
              "      <td>1</td>\n",
              "      <td>Mr</td>\n",
              "    </tr>\n",
              "  </tbody>\n",
              "</table>\n",
              "</div>"
            ],
            "text/plain": [
              "   PassengerId  Survived  Pclass  ...  Embarked_Q Embarked_S  Name_prefix\n",
              "0            1         0       3  ...           0          1           Mr\n",
              "1            2         1       1  ...           0          0          Mrs\n",
              "2            3         1       3  ...           0          1         Miss\n",
              "3            4         1       1  ...           0          1          Mrs\n",
              "4            5         0       3  ...           0          1           Mr\n",
              "\n",
              "[5 rows x 11 columns]"
            ]
          },
          "metadata": {
            "tags": []
          },
          "execution_count": 49
        }
      ]
    },
    {
      "cell_type": "markdown",
      "metadata": {
        "id": "RzeUhsJiPQkD",
        "colab_type": "text"
      },
      "source": [
        "The columns \"Pclass\", \"Age_Category\", \"Fare_categories\" are categorical columns. Therefore, let's create dummy variables and remove the original columns."
      ]
    },
    {
      "cell_type": "code",
      "metadata": {
        "id": "nrktTm7QPllI",
        "colab_type": "code",
        "colab": {}
      },
      "source": [
        "def dummy_addition(df,col, pref):\n",
        "\n",
        "  dummy_df = pd.get_dummies(df[col], prefix=pref)\n",
        "  df = pd.concat([df,dummy_df], axis=1)\n",
        "  return df\n",
        "\n",
        "cols = [\"Pclass\", \"Age_categories\", \"Fare_categories\", \"Name_prefix\"]\n",
        "\n",
        "for col in cols:\n",
        "\n",
        "  train_set = dummy_addition(train_set, col, col)\n",
        "  test_set = dummy_addition(test_set, col, col)\n",
        "\n",
        "train_set = train_set.drop(cols, axis=1)\n",
        "test_set = test_set.drop(cols, axis=1)\n",
        "\n",
        "#Drop one of each of the dummies to prevent the dummy trap.\n",
        "drop_cols = [\"Pclass_1\", \"Age_categories_Missing\", \"Fare_categories_0-12\", \"Name_prefix_Mr\"]\n",
        "train_set = train_set.drop(drop_cols, axis=1)\n",
        "test_set = test_set.drop(drop_cols, axis=1)"
      ],
      "execution_count": 50,
      "outputs": []
    },
    {
      "cell_type": "code",
      "metadata": {
        "id": "BIL2Qegl9cMC",
        "colab_type": "code",
        "colab": {
          "base_uri": "https://localhost:8080/",
          "height": 53
        },
        "outputId": "4396db46-7ffe-47d9-9293-cd9118186127"
      },
      "source": [
        "print(train_set.shape)\n",
        "print(test_set.shape)"
      ],
      "execution_count": 51,
      "outputs": [
        {
          "output_type": "stream",
          "text": [
            "(891, 24)\n",
            "(418, 23)\n"
          ],
          "name": "stdout"
        }
      ]
    },
    {
      "cell_type": "code",
      "metadata": {
        "id": "6zuoSNPiBOUI",
        "colab_type": "code",
        "colab": {
          "base_uri": "https://localhost:8080/",
          "height": 241
        },
        "outputId": "73891c60-a9ed-4e80-8d05-04ef42667fea"
      },
      "source": [
        "train_set.head()"
      ],
      "execution_count": 52,
      "outputs": [
        {
          "output_type": "execute_result",
          "data": {
            "text/html": [
              "<div>\n",
              "<style scoped>\n",
              "    .dataframe tbody tr th:only-of-type {\n",
              "        vertical-align: middle;\n",
              "    }\n",
              "\n",
              "    .dataframe tbody tr th {\n",
              "        vertical-align: top;\n",
              "    }\n",
              "\n",
              "    .dataframe thead th {\n",
              "        text-align: right;\n",
              "    }\n",
              "</style>\n",
              "<table border=\"1\" class=\"dataframe\">\n",
              "  <thead>\n",
              "    <tr style=\"text-align: right;\">\n",
              "      <th></th>\n",
              "      <th>PassengerId</th>\n",
              "      <th>Survived</th>\n",
              "      <th>Sex</th>\n",
              "      <th>Lone_Traveler</th>\n",
              "      <th>Embarked_C</th>\n",
              "      <th>Embarked_Q</th>\n",
              "      <th>Embarked_S</th>\n",
              "      <th>Pclass_2</th>\n",
              "      <th>Pclass_3</th>\n",
              "      <th>Age_categories_Infant</th>\n",
              "      <th>Age_categories_Child</th>\n",
              "      <th>Age_categories_Teenager</th>\n",
              "      <th>Age_categories_Young Adult</th>\n",
              "      <th>Age_categories_Adult</th>\n",
              "      <th>Age_categories_Senior</th>\n",
              "      <th>Fare_categories_12-50</th>\n",
              "      <th>Fare_categories_50-100</th>\n",
              "      <th>Fare_categories_100+</th>\n",
              "      <th>Name_prefix_Master</th>\n",
              "      <th>Name_prefix_Miss</th>\n",
              "      <th>Name_prefix_Mrs</th>\n",
              "      <th>Name_prefix_Officer</th>\n",
              "      <th>Name_prefix_Rev</th>\n",
              "      <th>Name_prefix_Royalty</th>\n",
              "    </tr>\n",
              "  </thead>\n",
              "  <tbody>\n",
              "    <tr>\n",
              "      <th>0</th>\n",
              "      <td>1</td>\n",
              "      <td>0</td>\n",
              "      <td>1</td>\n",
              "      <td>0</td>\n",
              "      <td>0</td>\n",
              "      <td>0</td>\n",
              "      <td>1</td>\n",
              "      <td>0</td>\n",
              "      <td>1</td>\n",
              "      <td>0</td>\n",
              "      <td>0</td>\n",
              "      <td>0</td>\n",
              "      <td>1</td>\n",
              "      <td>0</td>\n",
              "      <td>0</td>\n",
              "      <td>0</td>\n",
              "      <td>0</td>\n",
              "      <td>0</td>\n",
              "      <td>0</td>\n",
              "      <td>0</td>\n",
              "      <td>0</td>\n",
              "      <td>0</td>\n",
              "      <td>0</td>\n",
              "      <td>0</td>\n",
              "    </tr>\n",
              "    <tr>\n",
              "      <th>1</th>\n",
              "      <td>2</td>\n",
              "      <td>1</td>\n",
              "      <td>0</td>\n",
              "      <td>0</td>\n",
              "      <td>1</td>\n",
              "      <td>0</td>\n",
              "      <td>0</td>\n",
              "      <td>0</td>\n",
              "      <td>0</td>\n",
              "      <td>0</td>\n",
              "      <td>0</td>\n",
              "      <td>0</td>\n",
              "      <td>0</td>\n",
              "      <td>1</td>\n",
              "      <td>0</td>\n",
              "      <td>0</td>\n",
              "      <td>1</td>\n",
              "      <td>0</td>\n",
              "      <td>0</td>\n",
              "      <td>0</td>\n",
              "      <td>1</td>\n",
              "      <td>0</td>\n",
              "      <td>0</td>\n",
              "      <td>0</td>\n",
              "    </tr>\n",
              "    <tr>\n",
              "      <th>2</th>\n",
              "      <td>3</td>\n",
              "      <td>1</td>\n",
              "      <td>0</td>\n",
              "      <td>1</td>\n",
              "      <td>0</td>\n",
              "      <td>0</td>\n",
              "      <td>1</td>\n",
              "      <td>0</td>\n",
              "      <td>1</td>\n",
              "      <td>0</td>\n",
              "      <td>0</td>\n",
              "      <td>0</td>\n",
              "      <td>1</td>\n",
              "      <td>0</td>\n",
              "      <td>0</td>\n",
              "      <td>0</td>\n",
              "      <td>0</td>\n",
              "      <td>0</td>\n",
              "      <td>0</td>\n",
              "      <td>1</td>\n",
              "      <td>0</td>\n",
              "      <td>0</td>\n",
              "      <td>0</td>\n",
              "      <td>0</td>\n",
              "    </tr>\n",
              "    <tr>\n",
              "      <th>3</th>\n",
              "      <td>4</td>\n",
              "      <td>1</td>\n",
              "      <td>0</td>\n",
              "      <td>0</td>\n",
              "      <td>0</td>\n",
              "      <td>0</td>\n",
              "      <td>1</td>\n",
              "      <td>0</td>\n",
              "      <td>0</td>\n",
              "      <td>0</td>\n",
              "      <td>0</td>\n",
              "      <td>0</td>\n",
              "      <td>1</td>\n",
              "      <td>0</td>\n",
              "      <td>0</td>\n",
              "      <td>0</td>\n",
              "      <td>1</td>\n",
              "      <td>0</td>\n",
              "      <td>0</td>\n",
              "      <td>0</td>\n",
              "      <td>1</td>\n",
              "      <td>0</td>\n",
              "      <td>0</td>\n",
              "      <td>0</td>\n",
              "    </tr>\n",
              "    <tr>\n",
              "      <th>4</th>\n",
              "      <td>5</td>\n",
              "      <td>0</td>\n",
              "      <td>1</td>\n",
              "      <td>1</td>\n",
              "      <td>0</td>\n",
              "      <td>0</td>\n",
              "      <td>1</td>\n",
              "      <td>0</td>\n",
              "      <td>1</td>\n",
              "      <td>0</td>\n",
              "      <td>0</td>\n",
              "      <td>0</td>\n",
              "      <td>1</td>\n",
              "      <td>0</td>\n",
              "      <td>0</td>\n",
              "      <td>0</td>\n",
              "      <td>0</td>\n",
              "      <td>0</td>\n",
              "      <td>0</td>\n",
              "      <td>0</td>\n",
              "      <td>0</td>\n",
              "      <td>0</td>\n",
              "      <td>0</td>\n",
              "      <td>0</td>\n",
              "    </tr>\n",
              "  </tbody>\n",
              "</table>\n",
              "</div>"
            ],
            "text/plain": [
              "   PassengerId  Survived  ...  Name_prefix_Rev  Name_prefix_Royalty\n",
              "0            1         0  ...                0                    0\n",
              "1            2         1  ...                0                    0\n",
              "2            3         1  ...                0                    0\n",
              "3            4         1  ...                0                    0\n",
              "4            5         0  ...                0                    0\n",
              "\n",
              "[5 rows x 24 columns]"
            ]
          },
          "metadata": {
            "tags": []
          },
          "execution_count": 52
        }
      ]
    },
    {
      "cell_type": "code",
      "metadata": {
        "id": "1vff8fSOLvrM",
        "colab_type": "code",
        "colab": {
          "base_uri": "https://localhost:8080/",
          "height": 456
        },
        "outputId": "8a0063d3-95b4-429a-8d0e-70bfe121e544"
      },
      "source": [
        "import seaborn as sns\n",
        "\n",
        "correlations = (train_set.corr())\n",
        "sns.heatmap(correlations, )\n",
        "plt.show()"
      ],
      "execution_count": 53,
      "outputs": [
        {
          "output_type": "stream",
          "text": [
            "/usr/local/lib/python3.6/dist-packages/statsmodels/tools/_testing.py:19: FutureWarning: pandas.util.testing is deprecated. Use the functions in the public API at pandas.testing instead.\n",
            "  import pandas.util.testing as tm\n"
          ],
          "name": "stderr"
        },
        {
          "output_type": "display_data",
          "data": {
            "image/png": "[encoded data removed]",
            "text/plain": [
              "<Figure size 432x288 with 2 Axes>"
            ]
          },
          "metadata": {
            "tags": [],
            "needs_background": "light"
          }
        }
      ]
    },
    {
      "cell_type": "code",
      "metadata": {
        "id": "kVyyz5y6MVQM",
        "colab_type": "code",
        "colab": {
          "base_uri": "https://localhost:8080/",
          "height": 467
        },
        "outputId": "9dc5f508-5c34-43cb-ea46-27e2ecf68a0d"
      },
      "source": [
        "correlations[\"Survived\"].sort_values()"
      ],
      "execution_count": 54,
      "outputs": [
        {
          "output_type": "execute_result",
          "data": {
            "text/plain": [
              "Sex                          -0.543351\n",
              "Pclass_3                     -0.322308\n",
              "Lone_Traveler                -0.203367\n",
              "Embarked_S                   -0.149683\n",
              "Name_prefix_Rev              -0.064988\n",
              "Age_categories_Senior        -0.051224\n",
              "Age_categories_Child         -0.008328\n",
              "PassengerId                  -0.005007\n",
              "Age_categories_Young Adult   -0.001949\n",
              "Embarked_Q                    0.003650\n",
              "Name_prefix_Officer           0.007887\n",
              "Age_categories_Adult          0.017590\n",
              "Age_categories_Teenager       0.026859\n",
              "Name_prefix_Royalty           0.033391\n",
              "Fare_categories_12-50         0.065790\n",
              "Name_prefix_Master            0.085221\n",
              "Pclass_2                      0.093349\n",
              "Age_categories_Infant         0.150304\n",
              "Embarked_C                    0.168240\n",
              "Fare_categories_100+          0.182033\n",
              "Fare_categories_50-100        0.205384\n",
              "Name_prefix_Miss              0.332795\n",
              "Name_prefix_Mrs               0.344935\n",
              "Survived                      1.000000\n",
              "Name: Survived, dtype: float64"
            ]
          },
          "metadata": {
            "tags": []
          },
          "execution_count": 54
        }
      ]
    },
    {
      "cell_type": "code",
      "metadata": {
        "id": "9-jyZg7gD421",
        "colab_type": "code",
        "colab": {
          "base_uri": "https://localhost:8080/",
          "height": 575
        },
        "outputId": "f80917f3-d47f-48ec-b1b1-3346f7432c26"
      },
      "source": [
        "train_set.info()"
      ],
      "execution_count": 55,
      "outputs": [
        {
          "output_type": "stream",
          "text": [
            "<class 'pandas.core.frame.DataFrame'>\n",
            "RangeIndex: 891 entries, 0 to 890\n",
            "Data columns (total 24 columns):\n",
            " #   Column                      Non-Null Count  Dtype\n",
            "---  ------                      --------------  -----\n",
            " 0   PassengerId                 891 non-null    int64\n",
            " 1   Survived                    891 non-null    int64\n",
            " 2   Sex                         891 non-null    int64\n",
            " 3   Lone_Traveler               891 non-null    int64\n",
            " 4   Embarked_C                  891 non-null    uint8\n",
            " 5   Embarked_Q                  891 non-null    uint8\n",
            " 6   Embarked_S                  891 non-null    uint8\n",
            " 7   Pclass_2                    891 non-null    uint8\n",
            " 8   Pclass_3                    891 non-null    uint8\n",
            " 9   Age_categories_Infant       891 non-null    uint8\n",
            " 10  Age_categories_Child        891 non-null    uint8\n",
            " 11  Age_categories_Teenager     891 non-null    uint8\n",
            " 12  Age_categories_Young Adult  891 non-null    uint8\n",
            " 13  Age_categories_Adult        891 non-null    uint8\n",
            " 14  Age_categories_Senior       891 non-null    uint8\n",
            " 15  Fare_categories_12-50       891 non-null    uint8\n",
            " 16  Fare_categories_50-100      891 non-null    uint8\n",
            " 17  Fare_categories_100+        891 non-null    uint8\n",
            " 18  Name_prefix_Master          891 non-null    uint8\n",
            " 19  Name_prefix_Miss            891 non-null    uint8\n",
            " 20  Name_prefix_Mrs             891 non-null    uint8\n",
            " 21  Name_prefix_Officer         891 non-null    uint8\n",
            " 22  Name_prefix_Rev             891 non-null    uint8\n",
            " 23  Name_prefix_Royalty         891 non-null    uint8\n",
            "dtypes: int64(4), uint8(20)\n",
            "memory usage: 45.4 KB\n"
          ],
          "name": "stdout"
        }
      ]
    },
    {
      "cell_type": "markdown",
      "metadata": {
        "id": "xm5IA9WcgyN9",
        "colab_type": "text"
      },
      "source": [
        "## 3.2 Error Metrics"
      ]
    },
    {
      "cell_type": "code",
      "metadata": {
        "id": "mvCjTL-taAAX",
        "colab_type": "code",
        "colab": {}
      },
      "source": [
        "# Takes in the predictions coming out from the cross_val_predict function.\n",
        "def true_positive_rates(metrics):\n",
        "\n",
        "  predictions = pd.Series(predictions)\n",
        "  print(\"METRICS ON TRAINING SET\")\n",
        "  # False Positives\n",
        "  fp_filter = ((predictions == 1) & (train_set[\"Survived\"] == 0))\n",
        "  fp = len(predictions[fp_filter])\n",
        "  print('False Positives =', fp) \n",
        "\n",
        "  # True Positives\n",
        "  tp_filter = ((predictions == 1) & (train_set[\"Survived\"]== 1))\n",
        "  tp = len(predictions[tp_filter])\n",
        "  print('True Positives =', tp) \n",
        "\n",
        "  # False Negatives\n",
        "  fn_filter = ((predictions == 0) & (train_set[\"Survived\"]== 1))\n",
        "  fn = len(predictions[fn_filter])\n",
        "  print('False Negatives =', fn) \n",
        "\n",
        "  # True Negatives\n",
        "  tn_filter = ((predictions == 0) & (train_set[\"Survived\"]== 0))\n",
        "  tn = len(predictions[tn_filter])\n",
        "  print('True Negatives =', tn) \n",
        "\n",
        "  print(\" \")\n",
        "  print(\"-\"*35)\n",
        "  print(\" \")\n",
        "\n",
        "  # True Positive Rate\n",
        "  tpr = tp / (tp+fn)\n",
        "  print(\"True Positive Rate =\", tpr*100)\n",
        "\n",
        "  # False Positive Rate\n",
        "  fpr = fp / (fp+tn)\n",
        "  print(\"False Positive Rate =\", fpr*100)\n",
        "\n",
        "  # Accuracy\n",
        "  accuracy = (tp + tn)/(tp + tn + fp + fn)*100\n",
        "  print(\"Accuracy =\", accuracy)\n"
      ],
      "execution_count": 56,
      "outputs": []
    },
    {
      "cell_type": "code",
      "metadata": {
        "id": "FQ55HBj1g-Vc",
        "colab_type": "code",
        "colab": {}
      },
      "source": [
        "train_cols = test_set.columns.tolist()\n",
        "x_train = train_set[train_cols].drop(\"PassengerId\", axis=1)\n",
        "y_train = train_set[\"Survived\"]\n",
        "x_test = test_set.drop(\"PassengerId\", axis=1)"
      ],
      "execution_count": 57,
      "outputs": []
    },
    {
      "cell_type": "markdown",
      "metadata": {
        "id": "UGdi_IR0PPNU",
        "colab_type": "text"
      },
      "source": [
        "Let's create a set of empty lists, that will eventually store data on ML model performances, so we can pick the best one."
      ]
    },
    {
      "cell_type": "code",
      "metadata": {
        "id": "BMWT6gt5HMXj",
        "colab_type": "code",
        "colab": {}
      },
      "source": [
        "column_names = [\"ml_model\",\"model_accuracy\"]\n",
        "performance_df = pd.DataFrame(columns=column_names)\n",
        "\n",
        "def performance_list(title, predictions): \n",
        "  \n",
        "  score = accuracy_score(y_train, predictions)\n",
        "  ml_model = title\n",
        "  model_accuracy = score\n",
        "  newrow = {\"ml_model\":ml_model,\"model_accuracy\":score}\n",
        "  performance_df = performance_df.append(newrow, ignore_index=True)\n",
        "\n",
        "\n",
        "  return (print(performance_df))\n"
      ],
      "execution_count": 58,
      "outputs": []
    },
    {
      "cell_type": "code",
      "metadata": {
        "id": "2czo6GYp4i73",
        "colab_type": "code",
        "colab": {}
      },
      "source": [
        "# Create submission file for Kaggle\n",
        "def kaggle_submit(test_preds, title):\n",
        "  pass_id = test_set[\"PassengerId\"]\n",
        "  predictions_col = test_predictions\n",
        "  data_dict = {\"PassengerId\": pass_id, \"Survived\": predictions_col}\n",
        "  df = pd.DataFrame(data_dict)\n",
        "  file_name = model_name+\".csv\"\n",
        "  return df.to_csv(file_name, index=False)"
      ],
      "execution_count": 59,
      "outputs": []
    },
    {
      "cell_type": "markdown",
      "metadata": {
        "id": "kSYE1TTY0bK-",
        "colab_type": "text"
      },
      "source": [
        "Plan\n",
        "\n",
        "1. Accuracy metrics from training set.\n",
        "2. Store the accuracy data in list\n",
        "3. Predict on test_set\n",
        "4.Create submission file\n"
      ]
    },
    {
      "cell_type": "markdown",
      "metadata": {
        "id": "VM0no9HHhXBo",
        "colab_type": "text"
      },
      "source": [
        "## 3.3 Logistic Regression"
      ]
    },
    {
      "cell_type": "code",
      "metadata": {
        "id": "YYakUE6yhqu-",
        "colab_type": "code",
        "colab": {}
      },
      "source": [
        "model_name = \"Logistic_Regression_Balanced\"\n",
        "\n",
        "from sklearn.linear_model import LogisticRegression\n",
        "from sklearn.model_selection import cross_val_predict\n",
        "from sklearn.metrics import accuracy_score"
      ],
      "execution_count": 60,
      "outputs": []
    },
    {
      "cell_type": "code",
      "metadata": {
        "id": "tOTdE473hr0W",
        "colab_type": "code",
        "colab": {}
      },
      "source": [
        "lr_regressor = LogisticRegression(class_weight='balanced')\n",
        "train_predictions = cross_val_predict(lr_regressor, x_train, y_train, cv=3)"
      ],
      "execution_count": 61,
      "outputs": []
    },
    {
      "cell_type": "code",
      "metadata": {
        "id": "gsa8dRkE2u5C",
        "colab_type": "code",
        "colab": {
          "base_uri": "https://localhost:8080/",
          "height": 35
        },
        "outputId": "6deb8643-021e-4204-d223-70eb7dfbee2a"
      },
      "source": [
        "print(\"Accuracy = \",accuracy_score(y_train, train_predictions))"
      ],
      "execution_count": 62,
      "outputs": [
        {
          "output_type": "stream",
          "text": [
            "Accuracy =  0.7856341189674523\n"
          ],
          "name": "stdout"
        }
      ]
    },
    {
      "cell_type": "code",
      "metadata": {
        "id": "yrQEFZdKI3oe",
        "colab_type": "code",
        "colab": {
          "base_uri": "https://localhost:8080/",
          "height": 80
        },
        "outputId": "b6f6e642-1a8f-4fb6-bdd2-c32cc90210ec"
      },
      "source": [
        "# Store The Performance Data\n",
        "column_names = [\"ml_model\",\"model_accuracy\"]\n",
        "performance_df = pd.DataFrame(columns=column_names)\n",
        "score = accuracy_score(y_train, train_predictions)\n",
        "newrow = {\"ml_model\":model_name,\"model_accuracy\":score}\n",
        "performance_df = performance_df.append(newrow, ignore_index=True)\n",
        "performance_df"
      ],
      "execution_count": 63,
      "outputs": [
        {
          "output_type": "execute_result",
          "data": {
            "text/html": [
              "<div>\n",
              "<style scoped>\n",
              "    .dataframe tbody tr th:only-of-type {\n",
              "        vertical-align: middle;\n",
              "    }\n",
              "\n",
              "    .dataframe tbody tr th {\n",
              "        vertical-align: top;\n",
              "    }\n",
              "\n",
              "    .dataframe thead th {\n",
              "        text-align: right;\n",
              "    }\n",
              "</style>\n",
              "<table border=\"1\" class=\"dataframe\">\n",
              "  <thead>\n",
              "    <tr style=\"text-align: right;\">\n",
              "      <th></th>\n",
              "      <th>ml_model</th>\n",
              "      <th>model_accuracy</th>\n",
              "    </tr>\n",
              "  </thead>\n",
              "  <tbody>\n",
              "    <tr>\n",
              "      <th>0</th>\n",
              "      <td>Logistic_Regression_Balanced</td>\n",
              "      <td>0.785634</td>\n",
              "    </tr>\n",
              "  </tbody>\n",
              "</table>\n",
              "</div>"
            ],
            "text/plain": [
              "                       ml_model  model_accuracy\n",
              "0  Logistic_Regression_Balanced        0.785634"
            ]
          },
          "metadata": {
            "tags": []
          },
          "execution_count": 63
        }
      ]
    },
    {
      "cell_type": "code",
      "metadata": {
        "id": "xJKRj8BlJq3g",
        "colab_type": "code",
        "colab": {}
      },
      "source": [
        "# Predictions for test data.\n",
        "lr_regressor = LogisticRegression(class_weight='balanced')\n",
        "lr_regressor.fit(x_train, y_train)\n",
        "test_predictions = lr_regressor.predict(x_test)\n",
        "\n",
        "\n",
        "\n",
        "kaggle_submit(test_predictions, model_name)"
      ],
      "execution_count": 64,
      "outputs": []
    },
    {
      "cell_type": "markdown",
      "metadata": {
        "id": "PE7wWBoNoBGU",
        "colab_type": "text"
      },
      "source": [
        "## 3.4 Random Forrest Classifier"
      ]
    },
    {
      "cell_type": "code",
      "metadata": {
        "id": "XHOru2SZju2B",
        "colab_type": "code",
        "colab": {
          "base_uri": "https://localhost:8080/",
          "height": 89
        },
        "outputId": "0bd83d5f-5818-46c8-8022-7b98ec3afcdf"
      },
      "source": [
        "model_name = \"RForrest_Balanced\"\n",
        "from sklearn.ensemble import RandomForestClassifier\n",
        "from sklearn.model_selection import cross_val_predict\n",
        "from sklearn.metrics import accuracy_score\n",
        "\n",
        "rf = RandomForestClassifier(class_weight=\"balanced\", random_state=1)\n",
        "train_predictions = cross_val_predict(rf, x_train, y_train, cv=3)\n",
        "print(\"Accuracy = \",accuracy_score(y_train, train_predictions))\n",
        "\n",
        "# Store The Performance Data\n",
        "score = accuracy_score(y_train, train_predictions)\n",
        "newrow = {\"ml_model\":model_name,\"model_accuracy\":score}\n",
        "performance_df = performance_df.append(newrow, ignore_index=True)\n",
        "print(performance_df)\n",
        "\n",
        "# Predictions for test data.\n",
        "lr_regressor = LogisticRegression(class_weight='balanced')\n",
        "lr_regressor.fit(x_train, y_train)\n",
        "test_predictions = lr_regressor.predict(x_test)\n",
        "\n",
        "\n",
        "\n",
        "kaggle_submit(test_predictions, model_name)\n"
      ],
      "execution_count": 65,
      "outputs": [
        {
          "output_type": "stream",
          "text": [
            "Accuracy =  0.8035914702581369\n",
            "                       ml_model  model_accuracy\n",
            "0  Logistic_Regression_Balanced        0.785634\n",
            "1             RForrest_Balanced        0.803591\n"
          ],
          "name": "stdout"
        }
      ]
    },
    {
      "cell_type": "markdown",
      "metadata": {
        "id": "MWVVc-SyUg5a",
        "colab_type": "text"
      },
      "source": [
        "## 3.4 K Nearest Neighbors  "
      ]
    },
    {
      "cell_type": "markdown",
      "metadata": {
        "id": "dI-numLU73tS",
        "colab_type": "text"
      },
      "source": [
        "Let's write a code to find the best KNN value that gives the highest score between 1 and 50 neighbours\n"
      ]
    },
    {
      "cell_type": "code",
      "metadata": {
        "id": "w_O6YvPuycue",
        "colab_type": "code",
        "colab": {
          "base_uri": "https://localhost:8080/",
          "height": 295
        },
        "outputId": "4681ee8b-5f49-4a21-9319-fa1cb1b29073"
      },
      "source": [
        "from sklearn.neighbors import KNeighborsClassifier\n",
        "from sklearn.model_selection import cross_val_score\n",
        "knn_scores = {}\n",
        "\n",
        "for k in range(1,50,2):\n",
        "  knn = KNeighborsClassifier(n_neighbors = k)\n",
        "  score = cross_val_score(knn, x_train, y_train, cv=10)\n",
        "  score = score.mean()\n",
        "  knn_scores[k] = score\n",
        "\n",
        "pd.Series(knn_scores).plot()\n",
        "plt.xticks(range(1,50,2))\n",
        "plt.xlabel(\"K Values\")\n",
        "plt.ylabel(\"Accuracy Score\")\n",
        "plt.title(\"Accuracy per K Value\")\n",
        "plt.show()"
      ],
      "execution_count": 66,
      "outputs": [
        {
          "output_type": "display_data",
          "data": {
            "image/png": "[encoded data removed]",
            "text/plain": [
              "<Figure size 432x288 with 1 Axes>"
            ]
          },
          "metadata": {
            "tags": [],
            "needs_background": "light"
          }
        }
      ]
    },
    {
      "cell_type": "markdown",
      "metadata": {
        "id": "_E3HtCR8_W06",
        "colab_type": "text"
      },
      "source": [
        "We get the highest accuracy for k=15"
      ]
    },
    {
      "cell_type": "code",
      "metadata": {
        "id": "f2XzgqaS_WTg",
        "colab_type": "code",
        "colab": {
          "base_uri": "https://localhost:8080/",
          "height": 107
        },
        "outputId": "3c627dd1-2fa2-4f29-da45-7395597c2677"
      },
      "source": [
        "model_name = \"KNN_K15\"\n",
        "\n",
        "knn = KNeighborsClassifier(n_neighbors = 15)\n",
        "train_predictions = cross_val_predict(knn, x_train, y_train, cv=10)\n",
        "print(\"Accuracy = \",accuracy_score(y_train, train_predictions))\n",
        "\n",
        "# Store The Performance Data\n",
        "score = accuracy_score(y_train, train_predictions)\n",
        "newrow = {\"ml_model\":model_name,\"model_accuracy\":score}\n",
        "performance_df = performance_df.append(newrow, ignore_index=True)\n",
        "print(performance_df)\n",
        "\n",
        "# Predictions for test data.\n",
        "knn = KNeighborsClassifier(n_neighbors = 15)\n",
        "knn.fit(x_train, y_train)\n",
        "test_predictions = knn.predict(x_test)\n",
        "\n",
        "\n",
        "\n",
        "kaggle_submit(test_predictions, model_name)"
      ],
      "execution_count": 67,
      "outputs": [
        {
          "output_type": "stream",
          "text": [
            "Accuracy =  0.8159371492704826\n",
            "                       ml_model  model_accuracy\n",
            "0  Logistic_Regression_Balanced        0.785634\n",
            "1             RForrest_Balanced        0.803591\n",
            "2                       KNN_K15        0.815937\n"
          ],
          "name": "stdout"
        }
      ]
    },
    {
      "cell_type": "markdown",
      "metadata": {
        "id": "I1sky9K8I1sn",
        "colab_type": "text"
      },
      "source": [
        "## 3.7 Best Performing Features"
      ]
    },
    {
      "cell_type": "markdown",
      "metadata": {
        "id": "7F-nVD1RI8Ld",
        "colab_type": "text"
      },
      "source": [
        "Let's write a function that gives out the best performing features of an estimator using the RFECV library in Scikit learn. Let's apply this for Random Forrest for now."
      ]
    },
    {
      "cell_type": "code",
      "metadata": {
        "id": "C4prrV9L7U6n",
        "colab_type": "code",
        "colab": {}
      },
      "source": [
        "from sklearn.ensemble import RandomForestClassifier\n",
        "from sklearn.feature_selection import RFECV\n",
        "\n",
        "def best_features(df):\n",
        "\n",
        "  x_train = df.drop([\"PassengerId\",\"Survived\"], axis=1)\n",
        "  y_train = df[\"Survived\"]\n",
        "\n",
        "  rfc = RandomForestClassifier(random_state=1)\n",
        "  features = RFECV(rfc, cv=10)\n",
        "  features.fit(x_train, y_train)\n",
        "\n",
        "  best_features = list(x_train.columns[features.support_])\n",
        "  print(\"Best Features =\", best_features)\n",
        "  return best_features"
      ],
      "execution_count": 68,
      "outputs": []
    },
    {
      "cell_type": "code",
      "metadata": {
        "id": "floM_FAjLHB-",
        "colab_type": "code",
        "colab": {
          "base_uri": "https://localhost:8080/",
          "height": 55
        },
        "outputId": "38d05da2-a088-49c3-bd00-07096dd10906"
      },
      "source": [
        "rf_best_features = best_features(train_set)"
      ],
      "execution_count": 69,
      "outputs": [
        {
          "output_type": "stream",
          "text": [
            "Best Features = ['Sex', 'Lone_Traveler', 'Embarked_C', 'Embarked_S', 'Pclass_2', 'Pclass_3', 'Age_categories_Infant', 'Age_categories_Young Adult', 'Age_categories_Adult', 'Fare_categories_12-50', 'Fare_categories_50-100', 'Name_prefix_Master', 'Name_prefix_Miss', 'Name_prefix_Mrs']\n"
          ],
          "name": "stdout"
        }
      ]
    },
    {
      "cell_type": "code",
      "metadata": {
        "id": "Tv6Twf6jJ6bg",
        "colab_type": "code",
        "colab": {
          "base_uri": "https://localhost:8080/",
          "height": 125
        },
        "outputId": "8da983e2-e106-428a-b0ca-74c8afe02180"
      },
      "source": [
        "model_name = \"RForrest_Best Features\"\n",
        "from sklearn.ensemble import RandomForestClassifier\n",
        "from sklearn.model_selection import cross_val_predict\n",
        "from sklearn.metrics import accuracy_score\n",
        "\n",
        "x_train = x_train[rf_best_features]\n",
        "x_test = x_test[rf_best_features]\n",
        "\n",
        "rf = RandomForestClassifier(class_weight=\"balanced\", random_state=1)\n",
        "train_predictions = cross_val_predict(rf, x_train, y_train, cv=3)\n",
        "print(\"Accuracy = \",accuracy_score(y_train, train_predictions))\n",
        "\n",
        "# Store The Performance Data\n",
        "score = accuracy_score(y_train, train_predictions)\n",
        "newrow = {\"ml_model\":model_name,\"model_accuracy\":score}\n",
        "performance_df = performance_df.append(newrow, ignore_index=True)\n",
        "print(performance_df)\n",
        "\n",
        "# Predictions for test data.\n",
        "rf = RandomForestClassifier(class_weight=\"balanced\", random_state=1)\n",
        "rf.fit(x_train, y_train)\n",
        "test_predictions = rf.predict(x_test)\n",
        "\n",
        "\n",
        "\n",
        "kaggle_submit(test_predictions, model_name)\n"
      ],
      "execution_count": 70,
      "outputs": [
        {
          "output_type": "stream",
          "text": [
            "Accuracy =  0.8103254769921436\n",
            "                       ml_model  model_accuracy\n",
            "0  Logistic_Regression_Balanced        0.785634\n",
            "1             RForrest_Balanced        0.803591\n",
            "2                       KNN_K15        0.815937\n",
            "3        RForrest_Best Features        0.810325\n"
          ],
          "name": "stdout"
        }
      ]
    },
    {
      "cell_type": "markdown",
      "metadata": {
        "id": "Qn74an_DI39e",
        "colab_type": "text"
      },
      "source": [
        "## 3.8 Best Performing Model Selection Through Grid Search"
      ]
    },
    {
      "cell_type": "markdown",
      "metadata": {
        "id": "tedUL-wDJCVr",
        "colab_type": "text"
      },
      "source": [
        "Let's now use the technique to find the best features and with Grid Search to find the best model we could come up with."
      ]
    },
    {
      "cell_type": "code",
      "metadata": {
        "id": "USSe4KFCJ8WT",
        "colab_type": "code",
        "colab": {
          "base_uri": "https://localhost:8080/",
          "height": 287
        },
        "outputId": "fffbfdc9-4ee7-4d90-f51e-8fea8b99731c"
      },
      "source": [
        "from sklearn.linear_model import LogisticRegression\n",
        "from sklearn.neighbors import KNeighborsClassifier\n",
        "from sklearn.model_selection import GridSearchCV\n",
        "\n",
        "def select_model(df,features):\n",
        "    \n",
        "    x_train = df.drop([\"PassengerId\",\"Survived\"], axis=1)\n",
        "    y_train = df[\"Survived\"]\n",
        "\n",
        "    # List of dictionaries, each containing a model name,\n",
        "    # it's estimator and a dict of hyperparameters\n",
        "    models = [\n",
        "        {\n",
        "            \"name\": \"LogisticRegression\",\n",
        "            \"estimator\": LogisticRegression(),\n",
        "            \"hyperparameters\":\n",
        "                {\n",
        "                    \"solver\": [\"newton-cg\", \"lbfgs\", \"liblinear\"]\n",
        "                }\n",
        "        },\n",
        "        {\n",
        "            \"name\": \"KNeighborsClassifier\",\n",
        "            \"estimator\": KNeighborsClassifier(),\n",
        "            \"hyperparameters\":\n",
        "                {\n",
        "                    \"n_neighbors\": range(1,20,2),\n",
        "                    \"weights\": [\"distance\", \"uniform\"],\n",
        "                    \"algorithm\": [\"ball_tree\", \"kd_tree\", \"brute\"],\n",
        "                    \"p\": [1,2]\n",
        "                }\n",
        "        },\n",
        "        {\n",
        "            \"name\": \"RandomForestClassifier\",\n",
        "            \"estimator\": RandomForestClassifier(random_state=1),\n",
        "            \"hyperparameters\":\n",
        "                {\n",
        "                    \"n_estimators\": [4, 6, 9],\n",
        "                    \"criterion\": [\"entropy\", \"gini\"],\n",
        "                    \"max_depth\": [2, 5, 10],\n",
        "                    \"max_features\": [\"log2\", \"sqrt\"],\n",
        "                    \"min_samples_leaf\": [1, 5, 8],\n",
        "                    \"min_samples_split\": [2, 3, 5]\n",
        "\n",
        "                }\n",
        "        }\n",
        "    ]\n",
        "\n",
        "    for model in models:\n",
        "        print(model['name'])\n",
        "        print('-'*len(model['name']))\n",
        "\n",
        "        grid = GridSearchCV(model[\"estimator\"],\n",
        "                            param_grid=model[\"hyperparameters\"],\n",
        "                            cv=10)\n",
        "        grid.fit(x_train,y_train)\n",
        "        model[\"best_params\"] = grid.best_params_\n",
        "        model[\"best_score\"] = grid.best_score_\n",
        "        model[\"best_model\"] = grid.best_estimator_\n",
        "\n",
        "        print(\"Best Score: {}\".format(model[\"best_score\"]))\n",
        "        print(\"Best Parameters: {}\\n\".format(model[\"best_params\"]))\n",
        "\n",
        "    return models\n",
        "\n",
        "result = select_model(train_set,cols)"
      ],
      "execution_count": 71,
      "outputs": [
        {
          "output_type": "stream",
          "text": [
            "LogisticRegression\n",
            "------------------\n",
            "Best Score: 0.8148314606741573\n",
            "Best Parameters: {'solver': 'liblinear'}\n",
            "\n",
            "KNeighborsClassifier\n",
            "--------------------\n",
            "Best Score: 0.8170661672908863\n",
            "Best Parameters: {'algorithm': 'ball_tree', 'n_neighbors': 15, 'p': 1, 'weights': 'uniform'}\n",
            "\n",
            "RandomForestClassifier\n",
            "----------------------\n",
            "Best Score: 0.8249563046192259\n",
            "Best Parameters: {'criterion': 'entropy', 'max_depth': 10, 'max_features': 'log2', 'min_samples_leaf': 1, 'min_samples_split': 2, 'n_estimators': 6}\n",
            "\n"
          ],
          "name": "stdout"
        }
      ]
    },
    {
      "cell_type": "markdown",
      "metadata": {
        "id": "K6TdGkaDLcyJ",
        "colab_type": "text"
      },
      "source": [
        "From the above output, we can see that the KNeighborsClassifier classifier and the Random Forrest Classifier has better scores than the models we manually tunes. Let's predict on our test set with above parameters and see what we get\n"
      ]
    },
    {
      "cell_type": "code",
      "metadata": {
        "id": "AhVx_ULlo9Jb",
        "colab_type": "code",
        "colab": {
          "base_uri": "https://localhost:8080/",
          "height": 125
        },
        "outputId": "d78d0f28-19c6-438a-88be-ac0deb24c563"
      },
      "source": [
        "# Prediction with KNeighborsClassifier\n",
        "# Best Score: 0.8170661672908863\n",
        "# Best Parameters: {'algorithm': 'ball_tree', 'n_neighbors': 15, 'p': 1, 'weights': 'uniform'}\n",
        "\n",
        "model_name = \"KNN_From_Best_Model_Selector\"\n",
        "\n",
        "# Store The Performance Data\n",
        "score = 0.8170661672908863\n",
        "newrow = {\"ml_model\":model_name,\"model_accuracy\":score}\n",
        "performance_df = performance_df.append(newrow, ignore_index=True)\n",
        "print(performance_df)\n",
        "\n",
        "# Predictions for test data.\n",
        "knn = KNeighborsClassifier(algorithm='ball_tree', n_neighbors= 15, p= 1, weights= 'uniform')\n",
        "knn.fit(x_train, y_train)\n",
        "test_predictions = knn.predict(x_test)\n",
        "\n",
        "\n",
        "\n",
        "kaggle_submit(test_predictions, model_name)"
      ],
      "execution_count": 72,
      "outputs": [
        {
          "output_type": "stream",
          "text": [
            "                       ml_model  model_accuracy\n",
            "0  Logistic_Regression_Balanced        0.785634\n",
            "1             RForrest_Balanced        0.803591\n",
            "2                       KNN_K15        0.815937\n",
            "3        RForrest_Best Features        0.810325\n",
            "4  KNN_From_Best_Model_Selector        0.817066\n"
          ],
          "name": "stdout"
        }
      ]
    },
    {
      "cell_type": "code",
      "metadata": {
        "id": "eTZjvbVzMIUi",
        "colab_type": "code",
        "colab": {
          "base_uri": "https://localhost:8080/",
          "height": 143
        },
        "outputId": "a5aed051-0d21-477e-f5ff-475923071ed1"
      },
      "source": [
        "# Prediction with RandomForestClassifier\n",
        "# Best Score: 0.8249563046192259\n",
        "# Best Parameters: {'criterion': 'entropy', 'max_depth': 10, 'max_features': 'log2', 'min_samples_leaf': 1, 'min_samples_split': 2, 'n_estimators': 6}\n",
        "\n",
        "model_name = \"RandomForestClassifier_From_Best_Model_Selector\"\n",
        "\n",
        "# Store The Performance Data\n",
        "score = 0.8249563046192259\n",
        "newrow = {\"ml_model\":model_name,\"model_accuracy\":score}\n",
        "performance_df = performance_df.append(newrow, ignore_index=True)\n",
        "print(performance_df)\n",
        "\n",
        "# Predictions for test data.\n",
        "\n",
        "\n",
        "rf = RandomForestClassifier(criterion='entropy' , max_depth= 10, max_features= 'log2', min_samples_leaf= 1, min_samples_split= 2, n_estimators= 6)\n",
        "rf.fit(x_train, y_train)\n",
        "test_predictions = rf.predict(x_test)\n",
        "\n",
        "\n",
        "kaggle_submit(test_predictions, model_name)"
      ],
      "execution_count": 76,
      "outputs": [
        {
          "output_type": "stream",
          "text": [
            "                                          ml_model  model_accuracy\n",
            "0                     Logistic_Regression_Balanced        0.785634\n",
            "1                                RForrest_Balanced        0.803591\n",
            "2                                          KNN_K15        0.815937\n",
            "3                           RForrest_Best Features        0.810325\n",
            "4                     KNN_From_Best_Model_Selector        0.817066\n",
            "5  RandomForestClassifier_From_Best_Model_Selector        0.824956\n"
          ],
          "name": "stdout"
        }
      ]
    },
    {
      "cell_type": "markdown",
      "metadata": {
        "id": "rmLrCdd3SAIG",
        "colab_type": "text"
      },
      "source": [
        "![Screenshot 2020-08-17 at 22.05.44.png](data:image/png;base64,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)"
      ]
    },
    {
      "cell_type": "markdown",
      "metadata": {
        "id": "WvHWyLbWSN1d",
        "colab_type": "text"
      },
      "source": [
        "Interestingly, it is KNN_K15 prediction that gave the highest score in Kaggle. The models that we ran through our \"select_model\" function to find the best parameters have seem to overfit those models as they scored poorly in Kaggle. "
      ]
    },
    {
      "cell_type": "code",
      "metadata": {
        "id": "loxaKtL2SDS5",
        "colab_type": "code",
        "colab": {}
      },
      "source": [
        ""
      ],
      "execution_count": null,
      "outputs": []
    }
  ]
}